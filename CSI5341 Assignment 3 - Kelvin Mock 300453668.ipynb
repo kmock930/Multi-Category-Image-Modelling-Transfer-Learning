{
 "cells": [
  {
   "cell_type": "markdown",
   "metadata": {},
   "source": [
    "# Installing Packages and Prerequisite Dependencies"
   ]
  },
  {
   "cell_type": "code",
   "execution_count": 1,
   "metadata": {},
   "outputs": [
    {
     "name": "stdout",
     "output_type": "stream",
     "text": [
      "Requirement already satisfied: numpy in c:\\users\\kelvi\\anaconda3\\envs\\tf=2.10\\lib\\site-packages (1.24.3)\n",
      "Note: you may need to restart the kernel to use updated packages.\n",
      "Requirement already satisfied: scikit-image in c:\\users\\kelvi\\anaconda3\\envs\\tf=2.10\\lib\\site-packages (0.24.0)\n",
      "Requirement already satisfied: numpy>=1.23 in c:\\users\\kelvi\\anaconda3\\envs\\tf=2.10\\lib\\site-packages (from scikit-image) (1.24.3)\n",
      "Requirement already satisfied: scipy>=1.9 in c:\\users\\kelvi\\anaconda3\\envs\\tf=2.10\\lib\\site-packages (from scikit-image) (1.14.1)\n",
      "Requirement already satisfied: networkx>=2.8 in c:\\users\\kelvi\\anaconda3\\envs\\tf=2.10\\lib\\site-packages (from scikit-image) (3.4.1)\n",
      "Requirement already satisfied: pillow>=9.1 in c:\\users\\kelvi\\anaconda3\\envs\\tf=2.10\\lib\\site-packages (from scikit-image) (11.0.0)\n",
      "Requirement already satisfied: imageio>=2.33 in c:\\users\\kelvi\\anaconda3\\envs\\tf=2.10\\lib\\site-packages (from scikit-image) (2.36.0)\n",
      "Requirement already satisfied: tifffile>=2022.8.12 in c:\\users\\kelvi\\anaconda3\\envs\\tf=2.10\\lib\\site-packages (from scikit-image) (2024.9.20)\n",
      "Requirement already satisfied: packaging>=21 in c:\\users\\kelvi\\appdata\\roaming\\python\\python310\\site-packages (from scikit-image) (24.1)\n",
      "Requirement already satisfied: lazy-loader>=0.4 in c:\\users\\kelvi\\anaconda3\\envs\\tf=2.10\\lib\\site-packages (from scikit-image) (0.4)\n",
      "Note: you may need to restart the kernel to use updated packages.\n",
      "Requirement already satisfied: matplotlib in c:\\users\\kelvi\\anaconda3\\envs\\tf=2.10\\lib\\site-packages (3.9.2)\n",
      "Requirement already satisfied: contourpy>=1.0.1 in c:\\users\\kelvi\\anaconda3\\envs\\tf=2.10\\lib\\site-packages (from matplotlib) (1.3.0)\n",
      "Requirement already satisfied: cycler>=0.10 in c:\\users\\kelvi\\anaconda3\\envs\\tf=2.10\\lib\\site-packages (from matplotlib) (0.12.1)\n",
      "Requirement already satisfied: fonttools>=4.22.0 in c:\\users\\kelvi\\anaconda3\\envs\\tf=2.10\\lib\\site-packages (from matplotlib) (4.54.1)\n",
      "Requirement already satisfied: kiwisolver>=1.3.1 in c:\\users\\kelvi\\anaconda3\\envs\\tf=2.10\\lib\\site-packages (from matplotlib) (1.4.7)\n",
      "Requirement already satisfied: numpy>=1.23 in c:\\users\\kelvi\\anaconda3\\envs\\tf=2.10\\lib\\site-packages (from matplotlib) (1.24.3)\n",
      "Requirement already satisfied: packaging>=20.0 in c:\\users\\kelvi\\appdata\\roaming\\python\\python310\\site-packages (from matplotlib) (24.1)\n",
      "Requirement already satisfied: pillow>=8 in c:\\users\\kelvi\\anaconda3\\envs\\tf=2.10\\lib\\site-packages (from matplotlib) (11.0.0)\n",
      "Requirement already satisfied: pyparsing>=2.3.1 in c:\\users\\kelvi\\anaconda3\\envs\\tf=2.10\\lib\\site-packages (from matplotlib) (3.2.0)\n",
      "Requirement already satisfied: python-dateutil>=2.7 in c:\\users\\kelvi\\appdata\\roaming\\python\\python310\\site-packages (from matplotlib) (2.9.0.post0)\n",
      "Requirement already satisfied: six>=1.5 in c:\\users\\kelvi\\appdata\\roaming\\python\\python310\\site-packages (from python-dateutil>=2.7->matplotlib) (1.16.0)\n",
      "Note: you may need to restart the kernel to use updated packages.\n",
      "Requirement already satisfied: scikit-learn in c:\\users\\kelvi\\anaconda3\\envs\\tf=2.10\\lib\\site-packages (1.5.2)\n",
      "Requirement already satisfied: numpy>=1.19.5 in c:\\users\\kelvi\\anaconda3\\envs\\tf=2.10\\lib\\site-packages (from scikit-learn) (1.24.3)\n",
      "Requirement already satisfied: scipy>=1.6.0 in c:\\users\\kelvi\\anaconda3\\envs\\tf=2.10\\lib\\site-packages (from scikit-learn) (1.14.1)\n",
      "Requirement already satisfied: joblib>=1.2.0 in c:\\users\\kelvi\\anaconda3\\envs\\tf=2.10\\lib\\site-packages (from scikit-learn) (1.4.2)\n",
      "Requirement already satisfied: threadpoolctl>=3.1.0 in c:\\users\\kelvi\\anaconda3\\envs\\tf=2.10\\lib\\site-packages (from scikit-learn) (3.5.0)\n",
      "Note: you may need to restart the kernel to use updated packages.\n",
      "Requirement already satisfied: pandas in c:\\users\\kelvi\\anaconda3\\envs\\tf=2.10\\lib\\site-packages (2.2.3)\n",
      "Requirement already satisfied: numpy>=1.22.4 in c:\\users\\kelvi\\anaconda3\\envs\\tf=2.10\\lib\\site-packages (from pandas) (1.24.3)\n",
      "Requirement already satisfied: python-dateutil>=2.8.2 in c:\\users\\kelvi\\appdata\\roaming\\python\\python310\\site-packages (from pandas) (2.9.0.post0)\n",
      "Requirement already satisfied: pytz>=2020.1 in c:\\users\\kelvi\\anaconda3\\envs\\tf=2.10\\lib\\site-packages (from pandas) (2024.2)\n",
      "Requirement already satisfied: tzdata>=2022.7 in c:\\users\\kelvi\\anaconda3\\envs\\tf=2.10\\lib\\site-packages (from pandas) (2024.2)\n",
      "Requirement already satisfied: six>=1.5 in c:\\users\\kelvi\\appdata\\roaming\\python\\python310\\site-packages (from python-dateutil>=2.8.2->pandas) (1.16.0)\n",
      "Note: you may need to restart the kernel to use updated packages.\n",
      "Requirement already satisfied: tensorflow==2.10 in c:\\users\\kelvi\\anaconda3\\envs\\tf=2.10\\lib\\site-packages (2.10.0)\n",
      "Requirement already satisfied: absl-py>=1.0.0 in c:\\users\\kelvi\\anaconda3\\envs\\tf=2.10\\lib\\site-packages (from tensorflow==2.10) (2.1.0)\n",
      "Requirement already satisfied: astunparse>=1.6.0 in c:\\users\\kelvi\\anaconda3\\envs\\tf=2.10\\lib\\site-packages (from tensorflow==2.10) (1.6.3)\n",
      "Requirement already satisfied: flatbuffers>=2.0 in c:\\users\\kelvi\\anaconda3\\envs\\tf=2.10\\lib\\site-packages (from tensorflow==2.10) (24.3.25)\n",
      "Requirement already satisfied: gast<=0.4.0,>=0.2.1 in c:\\users\\kelvi\\anaconda3\\envs\\tf=2.10\\lib\\site-packages (from tensorflow==2.10) (0.4.0)\n",
      "Requirement already satisfied: google-pasta>=0.1.1 in c:\\users\\kelvi\\anaconda3\\envs\\tf=2.10\\lib\\site-packages (from tensorflow==2.10) (0.2.0)\n",
      "Requirement already satisfied: h5py>=2.9.0 in c:\\users\\kelvi\\anaconda3\\envs\\tf=2.10\\lib\\site-packages (from tensorflow==2.10) (3.12.1)\n",
      "Requirement already satisfied: keras-preprocessing>=1.1.1 in c:\\users\\kelvi\\anaconda3\\envs\\tf=2.10\\lib\\site-packages (from tensorflow==2.10) (1.1.2)\n",
      "Requirement already satisfied: libclang>=13.0.0 in c:\\users\\kelvi\\anaconda3\\envs\\tf=2.10\\lib\\site-packages (from tensorflow==2.10) (18.1.1)\n",
      "Requirement already satisfied: numpy>=1.20 in c:\\users\\kelvi\\anaconda3\\envs\\tf=2.10\\lib\\site-packages (from tensorflow==2.10) (1.24.3)\n",
      "Requirement already satisfied: opt-einsum>=2.3.2 in c:\\users\\kelvi\\anaconda3\\envs\\tf=2.10\\lib\\site-packages (from tensorflow==2.10) (3.4.0)\n",
      "Requirement already satisfied: packaging in c:\\users\\kelvi\\appdata\\roaming\\python\\python310\\site-packages (from tensorflow==2.10) (24.1)\n",
      "Requirement already satisfied: protobuf<3.20,>=3.9.2 in c:\\users\\kelvi\\anaconda3\\envs\\tf=2.10\\lib\\site-packages (from tensorflow==2.10) (3.19.6)\n",
      "Requirement already satisfied: setuptools in c:\\users\\kelvi\\anaconda3\\envs\\tf=2.10\\lib\\site-packages (from tensorflow==2.10) (75.2.0)\n",
      "Requirement already satisfied: six>=1.12.0 in c:\\users\\kelvi\\appdata\\roaming\\python\\python310\\site-packages (from tensorflow==2.10) (1.16.0)\n",
      "Requirement already satisfied: termcolor>=1.1.0 in c:\\users\\kelvi\\anaconda3\\envs\\tf=2.10\\lib\\site-packages (from tensorflow==2.10) (2.5.0)\n",
      "Requirement already satisfied: typing-extensions>=3.6.6 in c:\\users\\kelvi\\appdata\\roaming\\python\\python310\\site-packages (from tensorflow==2.10) (4.12.2)\n",
      "Requirement already satisfied: wrapt>=1.11.0 in c:\\users\\kelvi\\anaconda3\\envs\\tf=2.10\\lib\\site-packages (from tensorflow==2.10) (1.16.0)\n",
      "Requirement already satisfied: tensorflow-io-gcs-filesystem>=0.23.1 in c:\\users\\kelvi\\anaconda3\\envs\\tf=2.10\\lib\\site-packages (from tensorflow==2.10) (0.31.0)\n",
      "Requirement already satisfied: grpcio<2.0,>=1.24.3 in c:\\users\\kelvi\\anaconda3\\envs\\tf=2.10\\lib\\site-packages (from tensorflow==2.10) (1.67.0)\n",
      "Requirement already satisfied: tensorboard<2.11,>=2.10 in c:\\users\\kelvi\\anaconda3\\envs\\tf=2.10\\lib\\site-packages (from tensorflow==2.10) (2.10.1)\n",
      "Requirement already satisfied: tensorflow-estimator<2.11,>=2.10.0 in c:\\users\\kelvi\\anaconda3\\envs\\tf=2.10\\lib\\site-packages (from tensorflow==2.10) (2.10.0)\n",
      "Requirement already satisfied: keras<2.11,>=2.10.0 in c:\\users\\kelvi\\anaconda3\\envs\\tf=2.10\\lib\\site-packages (from tensorflow==2.10) (2.10.0)\n",
      "Requirement already satisfied: wheel<1.0,>=0.23.0 in c:\\users\\kelvi\\anaconda3\\envs\\tf=2.10\\lib\\site-packages (from astunparse>=1.6.0->tensorflow==2.10) (0.44.0)\n",
      "Requirement already satisfied: google-auth<3,>=1.6.3 in c:\\users\\kelvi\\anaconda3\\envs\\tf=2.10\\lib\\site-packages (from tensorboard<2.11,>=2.10->tensorflow==2.10) (2.35.0)\n",
      "Requirement already satisfied: google-auth-oauthlib<0.5,>=0.4.1 in c:\\users\\kelvi\\anaconda3\\envs\\tf=2.10\\lib\\site-packages (from tensorboard<2.11,>=2.10->tensorflow==2.10) (0.4.6)\n",
      "Requirement already satisfied: markdown>=2.6.8 in c:\\users\\kelvi\\anaconda3\\envs\\tf=2.10\\lib\\site-packages (from tensorboard<2.11,>=2.10->tensorflow==2.10) (3.7)\n",
      "Requirement already satisfied: requests<3,>=2.21.0 in c:\\users\\kelvi\\anaconda3\\envs\\tf=2.10\\lib\\site-packages (from tensorboard<2.11,>=2.10->tensorflow==2.10) (2.32.3)\n",
      "Requirement already satisfied: tensorboard-data-server<0.7.0,>=0.6.0 in c:\\users\\kelvi\\anaconda3\\envs\\tf=2.10\\lib\\site-packages (from tensorboard<2.11,>=2.10->tensorflow==2.10) (0.6.1)\n",
      "Requirement already satisfied: tensorboard-plugin-wit>=1.6.0 in c:\\users\\kelvi\\anaconda3\\envs\\tf=2.10\\lib\\site-packages (from tensorboard<2.11,>=2.10->tensorflow==2.10) (1.8.1)\n",
      "Requirement already satisfied: werkzeug>=1.0.1 in c:\\users\\kelvi\\anaconda3\\envs\\tf=2.10\\lib\\site-packages (from tensorboard<2.11,>=2.10->tensorflow==2.10) (3.0.4)\n",
      "Requirement already satisfied: cachetools<6.0,>=2.0.0 in c:\\users\\kelvi\\anaconda3\\envs\\tf=2.10\\lib\\site-packages (from google-auth<3,>=1.6.3->tensorboard<2.11,>=2.10->tensorflow==2.10) (5.5.0)\n",
      "Requirement already satisfied: pyasn1-modules>=0.2.1 in c:\\users\\kelvi\\anaconda3\\envs\\tf=2.10\\lib\\site-packages (from google-auth<3,>=1.6.3->tensorboard<2.11,>=2.10->tensorflow==2.10) (0.4.1)\n",
      "Requirement already satisfied: rsa<5,>=3.1.4 in c:\\users\\kelvi\\anaconda3\\envs\\tf=2.10\\lib\\site-packages (from google-auth<3,>=1.6.3->tensorboard<2.11,>=2.10->tensorflow==2.10) (4.9)\n",
      "Requirement already satisfied: requests-oauthlib>=0.7.0 in c:\\users\\kelvi\\anaconda3\\envs\\tf=2.10\\lib\\site-packages (from google-auth-oauthlib<0.5,>=0.4.1->tensorboard<2.11,>=2.10->tensorflow==2.10) (2.0.0)\n",
      "Requirement already satisfied: charset-normalizer<4,>=2 in c:\\users\\kelvi\\anaconda3\\envs\\tf=2.10\\lib\\site-packages (from requests<3,>=2.21.0->tensorboard<2.11,>=2.10->tensorflow==2.10) (3.4.0)\n",
      "Requirement already satisfied: idna<4,>=2.5 in c:\\users\\kelvi\\anaconda3\\envs\\tf=2.10\\lib\\site-packages (from requests<3,>=2.21.0->tensorboard<2.11,>=2.10->tensorflow==2.10) (3.10)\n",
      "Requirement already satisfied: urllib3<3,>=1.21.1 in c:\\users\\kelvi\\anaconda3\\envs\\tf=2.10\\lib\\site-packages (from requests<3,>=2.21.0->tensorboard<2.11,>=2.10->tensorflow==2.10) (2.2.3)\n",
      "Requirement already satisfied: certifi>=2017.4.17 in c:\\users\\kelvi\\anaconda3\\envs\\tf=2.10\\lib\\site-packages (from requests<3,>=2.21.0->tensorboard<2.11,>=2.10->tensorflow==2.10) (2024.8.30)\n",
      "Requirement already satisfied: MarkupSafe>=2.1.1 in c:\\users\\kelvi\\anaconda3\\envs\\tf=2.10\\lib\\site-packages (from werkzeug>=1.0.1->tensorboard<2.11,>=2.10->tensorflow==2.10) (3.0.2)\n",
      "Requirement already satisfied: pyasn1<0.7.0,>=0.4.6 in c:\\users\\kelvi\\anaconda3\\envs\\tf=2.10\\lib\\site-packages (from pyasn1-modules>=0.2.1->google-auth<3,>=1.6.3->tensorboard<2.11,>=2.10->tensorflow==2.10) (0.6.1)\n",
      "Requirement already satisfied: oauthlib>=3.0.0 in c:\\users\\kelvi\\anaconda3\\envs\\tf=2.10\\lib\\site-packages (from requests-oauthlib>=0.7.0->google-auth-oauthlib<0.5,>=0.4.1->tensorboard<2.11,>=2.10->tensorflow==2.10) (3.2.2)\n",
      "Note: you may need to restart the kernel to use updated packages.\n",
      "Requirement already satisfied: pyyaml in c:\\users\\kelvi\\anaconda3\\envs\\tf=2.10\\lib\\site-packages (6.0.2)\n",
      "Requirement already satisfied: h5py in c:\\users\\kelvi\\anaconda3\\envs\\tf=2.10\\lib\\site-packages (3.12.1)\n",
      "Requirement already satisfied: numpy>=1.19.3 in c:\\users\\kelvi\\anaconda3\\envs\\tf=2.10\\lib\\site-packages (from h5py) (1.24.3)\n",
      "Note: you may need to restart the kernel to use updated packages.\n"
     ]
    }
   ],
   "source": [
    "%pip install numpy\n",
    "%pip install scikit-image\n",
    "%pip install matplotlib\n",
    "%pip install scikit-learn\n",
    "%pip install pandas\n",
    "%pip install tensorflow==2.10\n",
    "%pip install pyyaml h5py"
   ]
  },
  {
   "cell_type": "code",
   "execution_count": 1,
   "metadata": {},
   "outputs": [],
   "source": [
    "from setup import load_images, split as dataSplit, encodeLabel, cacheData;\n",
    "from boundingbox import saveBBoxCoordinates, drawBoundingBox;\n",
    "from performance import printConfMtx;\n",
    "import tensorflow as tf;\n",
    "from tensorflow.keras.models import load_model;\n",
    "from Models import Model;\n",
    "import constants;\n",
    "import numpy as np;\n",
    "import pandas as pd;\n",
    "import random;"
   ]
  },
  {
   "cell_type": "markdown",
   "metadata": {},
   "source": [
    "# Data Preparation for Classification - stonefly dataset"
   ]
  },
  {
   "cell_type": "code",
   "execution_count": 3,
   "metadata": {},
   "outputs": [
    {
     "name": "stderr",
     "output_type": "stream",
     "text": [
      "c:\\Users\\kelvi\\anaconda3\\envs\\tf=2.10\\lib\\site-packages\\skimage\\_shared\\utils.py:438: UserWarning: This might be a color image. The histogram will be computed on the flattened image. You can instead apply this function to each color channel, or set channel_axis.\n",
      "  return func(*args, **kwargs)\n"
     ]
    },
    {
     "data": {
      "image/png": "[encoded data removed]",
      "text/plain": [
       "<Figure size 640x480 with 1 Axes>"
      ]
     },
     "metadata": {},
     "output_type": "display_data"
    },
    {
     "data": {
      "image/png": "[encoded data removed]",
      "text/plain": [
       "<Figure size 640x480 with 1 Axes>"
      ]
     },
     "metadata": {},
     "output_type": "display_data"
    },
    {
     "name": "stdout",
     "output_type": "stream",
     "text": [
      "Total number of samples in the training set: 1089\n",
      "Total number of labels in the training set: 1089\n",
      "Unique labels in the training set: ['cal' 'dor' 'hes' 'iso' 'mos' 'pte' 'swe' 'yor' 'zap']\n",
      "Total number of samples in the validation set: 273\n",
      "Total number of labels in the validation set: 273\n",
      "Unique labels in the validation set: ['cal' 'dor' 'hes' 'iso' 'mos' 'pte' 'swe' 'yor' 'zap']\n"
     ]
    }
   ],
   "source": [
    "images, y = load_images(dataset=constants.STONEFLY, setName=constants.set0);\n",
    "X_train, X_validation, y_train, y_validation = dataSplit(images, y);\n",
    "# inspect the data\n",
    "print(f\"Total number of samples in the training set: {len(X_train)}\");\n",
    "print(f\"Total number of labels in the training set: {len(y_train)}\");\n",
    "print(f\"Unique labels in the training set: {np.unique(y_train)}\");\n",
    "print(f\"Total number of samples in the validation set: {len(X_validation)}\");\n",
    "print(f\"Total number of labels in the validation set: {len(y_validation)}\");\n",
    "print(f\"Unique labels in the validation set: {np.unique(y_validation)}\");"
   ]
  },
  {
   "cell_type": "code",
   "execution_count": 4,
   "metadata": {},
   "outputs": [],
   "source": [
    "# save training set and validation set data for easier debugging\n",
    "cacheData(X_train, \"X_train.npy\");\n",
    "cacheData(X_validation, \"X_validation.npy\");\n",
    "cacheData(y_train, \"y_train.npy\");\n",
    "cacheData(y_validation, \"y_validation.npy\");"
   ]
  },
  {
   "cell_type": "code",
   "execution_count": 5,
   "metadata": {},
   "outputs": [
    {
     "name": "stderr",
     "output_type": "stream",
     "text": [
      "c:\\Users\\kelvi\\anaconda3\\envs\\tf=2.10\\lib\\site-packages\\skimage\\_shared\\utils.py:438: UserWarning: This might be a color image. The histogram will be computed on the flattened image. You can instead apply this function to each color channel, or set channel_axis.\n",
      "  return func(*args, **kwargs)\n"
     ]
    },
    {
     "data": {
      "image/png": "[encoded data removed]",
      "text/plain": [
       "<Figure size 640x480 with 1 Axes>"
      ]
     },
     "metadata": {},
     "output_type": "display_data"
    },
    {
     "data": {
      "image/png": "[encoded data removed]",
      "text/plain": [
       "<Figure size 640x480 with 1 Axes>"
      ]
     },
     "metadata": {},
     "output_type": "display_data"
    },
    {
     "name": "stdout",
     "output_type": "stream",
     "text": [
      "Total number of samples in the test set: 1480\n",
      "Total number of labels in the test set: 1480\n",
      "Unique labels in the test set: ['cal' 'dor' 'hes' 'iso' 'mos' 'pte' 'swe' 'yor' 'zap']\n"
     ]
    }
   ],
   "source": [
    "X_test, y_test = load_images(dataset=constants.STONEFLY, setName=constants.set1);\n",
    "print(f\"Total number of samples in the test set: {len(X_test)}\");\n",
    "print(f\"Total number of labels in the test set: {len(y_test)}\");\n",
    "print(f\"Unique labels in the test set: {np.unique(y_test)}\");"
   ]
  },
  {
   "cell_type": "code",
   "execution_count": 6,
   "metadata": {},
   "outputs": [],
   "source": [
    "# save the test set data for easier debugging\n",
    "cacheData(X_test, \"X_test.npy\");\n",
    "cacheData(y_test, \"y_test.npy\");"
   ]
  },
  {
   "cell_type": "markdown",
   "metadata": {},
   "source": [
    "# Basic Transfer Learning: Classification"
   ]
  },
  {
   "cell_type": "markdown",
   "metadata": {},
   "source": [
    "## ResNet Classification"
   ]
  },
  {
   "cell_type": "code",
   "execution_count": 2,
   "metadata": {},
   "outputs": [],
   "source": [
    "# Load the data from .npy files\n",
    "X_train = np.load(\"X_train.npy\");\n",
    "y_train = np.load(\"y_-train.npy\");\n",
    "X_validation = np.load(\"X_validation.npy\");\n",
    "y_validation = np.load(\"y_validation.npy\");\n",
    "X_test = np.load(\"X_test.npy\");\n",
    "y_test = np.load(\"y_test.npy\");"
   ]
  },
  {
   "cell_type": "markdown",
   "metadata": {},
   "source": [
    "### Understanding the Features"
   ]
  },
  {
   "cell_type": "code",
   "execution_count": 8,
   "metadata": {},
   "outputs": [
    {
     "data": {
      "text/plain": [
       "zap    178\n",
       "dor    143\n",
       "hes    136\n",
       "iso    136\n",
       "yor    134\n",
       "cal    133\n",
       "swe    123\n",
       "pte     71\n",
       "mos     35\n",
       "Name: count, dtype: int64"
      ]
     },
     "execution_count": 8,
     "metadata": {},
     "output_type": "execute_result"
    }
   ],
   "source": [
    "# Training set\n",
    "images = pd.Series(y_train);\n",
    "images.value_counts()"
   ]
  },
  {
   "cell_type": "code",
   "execution_count": 9,
   "metadata": {},
   "outputs": [
    {
     "data": {
      "text/plain": [
       "zap    45\n",
       "dor    36\n",
       "yor    34\n",
       "hes    34\n",
       "iso    34\n",
       "cal    33\n",
       "swe    30\n",
       "pte    18\n",
       "mos     9\n",
       "Name: count, dtype: int64"
      ]
     },
     "execution_count": 9,
     "metadata": {},
     "output_type": "execute_result"
    }
   ],
   "source": [
    "# Validation set\n",
    "images = pd.Series(y_validation);\n",
    "images.value_counts()"
   ]
  },
  {
   "cell_type": "code",
   "execution_count": 10,
   "metadata": {},
   "outputs": [
    {
     "data": {
      "text/plain": [
       "yor    290\n",
       "hes    200\n",
       "iso    200\n",
       "dor    194\n",
       "swe    185\n",
       "cal    171\n",
       "zap    150\n",
       "pte     55\n",
       "mos     35\n",
       "Name: count, dtype: int64"
      ]
     },
     "execution_count": 10,
     "metadata": {},
     "output_type": "execute_result"
    }
   ],
   "source": [
    "# Test set\n",
    "images = pd.Series(y_test);\n",
    "images.value_counts()"
   ]
  },
  {
   "cell_type": "markdown",
   "metadata": {},
   "source": [
    "### Load the Model"
   ]
  },
  {
   "cell_type": "code",
   "execution_count": 11,
   "metadata": {},
   "outputs": [],
   "source": [
    "model = Model();\n",
    "model.build_classifier();"
   ]
  },
  {
   "cell_type": "markdown",
   "metadata": {},
   "source": [
    "Now let's observe a summary of our classifiers."
   ]
  },
  {
   "cell_type": "code",
   "execution_count": 12,
   "metadata": {},
   "outputs": [
    {
     "name": "stdout",
     "output_type": "stream",
     "text": [
      "Model: \"model\"\n",
      "_________________________________________________________________\n",
      " Layer (type)                Output Shape              Param #   \n",
      "=================================================================\n",
      " input_3 (InputLayer)        [(None, 96, 128, 3)]      0         \n",
      "                                                                 \n",
      " resnet50 (Functional)       (None, 3, 4, 2048)        23587712  \n",
      "                                                                 \n",
      " global_average_pooling2d (G  (None, 2048)             0         \n",
      " lobalAveragePooling2D)                                          \n",
      "                                                                 \n",
      " dense (Dense)               (None, 1024)              2098176   \n",
      "                                                                 \n",
      " dense_1 (Dense)             (None, 1)                 1025      \n",
      "                                                                 \n",
      "=================================================================\n",
      "Total params: 25,686,913\n",
      "Trainable params: 2,099,201\n",
      "Non-trainable params: 23,587,712\n",
      "_________________________________________________________________\n"
     ]
    }
   ],
   "source": [
    "model.resnet50.summary()"
   ]
  },
  {
   "cell_type": "code",
   "execution_count": 13,
   "metadata": {},
   "outputs": [
    {
     "name": "stdout",
     "output_type": "stream",
     "text": [
      "Model: \"model_1\"\n",
      "_________________________________________________________________\n",
      " Layer (type)                Output Shape              Param #   \n",
      "=================================================================\n",
      " input_3 (InputLayer)        [(None, 96, 128, 3)]      0         \n",
      "                                                                 \n",
      " resnet50v2 (Functional)     (None, 3, 4, 2048)        23564800  \n",
      "                                                                 \n",
      " global_average_pooling2d_1   (None, 2048)             0         \n",
      " (GlobalAveragePooling2D)                                        \n",
      "                                                                 \n",
      " dense_2 (Dense)             (None, 1024)              2098176   \n",
      "                                                                 \n",
      " dense_3 (Dense)             (None, 1)                 1025      \n",
      "                                                                 \n",
      "=================================================================\n",
      "Total params: 25,664,001\n",
      "Trainable params: 2,099,201\n",
      "Non-trainable params: 23,564,800\n",
      "_________________________________________________________________\n"
     ]
    }
   ],
   "source": [
    "model.resnet50V2.summary();"
   ]
  },
  {
   "cell_type": "markdown",
   "metadata": {},
   "source": [
    "### Train the Classifiers"
   ]
  },
  {
   "cell_type": "markdown",
   "metadata": {},
   "source": [
    "#### resnet50"
   ]
  },
  {
   "cell_type": "code",
   "execution_count": 14,
   "metadata": {},
   "outputs": [
    {
     "name": "stdout",
     "output_type": "stream",
     "text": [
      "Encoded Labels in training set: [0 1 2 3 4 5 6 7 8]\n",
      "Encoded Labels in validation set: [0 1 2 3 4 5 6 7 8]\n",
      "Epoch 1/10\n"
     ]
    },
    {
     "name": "stderr",
     "output_type": "stream",
     "text": [
      "c:\\Users\\kelvi\\anaconda3\\envs\\tf=2.10\\lib\\site-packages\\sklearn\\preprocessing\\_label.py:114: DataConversionWarning: A column-vector y was passed when a 1d array was expected. Please change the shape of y to (n_samples, ), for example using ravel().\n",
      "  y = column_or_1d(y, warn=True)\n",
      "c:\\Users\\kelvi\\anaconda3\\envs\\tf=2.10\\lib\\site-packages\\sklearn\\preprocessing\\_label.py:114: DataConversionWarning: A column-vector y was passed when a 1d array was expected. Please change the shape of y to (n_samples, ), for example using ravel().\n",
      "  y = column_or_1d(y, warn=True)\n"
     ]
    },
    {
     "name": "stdout",
     "output_type": "stream",
     "text": [
      "35/35 [==============================] - 10s 123ms/step - loss: -74.2529 - accuracy: 0.1313 - val_loss: -178.2901 - val_accuracy: 0.1319\n",
      "Epoch 2/10\n",
      "35/35 [==============================] - 2s 69ms/step - loss: -334.9637 - accuracy: 0.1313 - val_loss: -566.9030 - val_accuracy: 0.1319\n",
      "Epoch 3/10\n",
      "35/35 [==============================] - 2s 69ms/step - loss: -862.0217 - accuracy: 0.1313 - val_loss: -1263.2372 - val_accuracy: 0.1319\n",
      "Epoch 4/10\n",
      "35/35 [==============================] - 2s 71ms/step - loss: -1705.4729 - accuracy: 0.1313 - val_loss: -2289.5476 - val_accuracy: 0.1319\n",
      "Epoch 5/10\n",
      "35/35 [==============================] - 2s 69ms/step - loss: -2891.2993 - accuracy: 0.1313 - val_loss: -3678.1494 - val_accuracy: 0.1319\n",
      "Epoch 6/10\n",
      "35/35 [==============================] - 2s 70ms/step - loss: -4483.3086 - accuracy: 0.1313 - val_loss: -5435.2393 - val_accuracy: 0.1319\n",
      "Epoch 7/10\n",
      "35/35 [==============================] - 2s 71ms/step - loss: -6378.5054 - accuracy: 0.1313 - val_loss: -7556.3423 - val_accuracy: 0.1319\n",
      "Epoch 8/10\n",
      "35/35 [==============================] - 2s 70ms/step - loss: -8642.6660 - accuracy: 0.1313 - val_loss: -9954.8516 - val_accuracy: 0.1319\n",
      "Epoch 9/10\n",
      "35/35 [==============================] - 2s 70ms/step - loss: -11127.5713 - accuracy: 0.1313 - val_loss: -12579.5479 - val_accuracy: 0.1319\n",
      "Epoch 10/10\n",
      "35/35 [==============================] - 2s 70ms/step - loss: -14024.6914 - accuracy: 0.1313 - val_loss: -15713.1133 - val_accuracy: 0.1319\n"
     ]
    },
    {
     "data": {
      "image/png": "[encoded data removed]",
      "text/plain": [
       "<Figure size 640x480 with 1 Axes>"
      ]
     },
     "metadata": {},
     "output_type": "display_data"
    },
    {
     "data": {
      "image/png": "[encoded data removed]",
      "text/plain": [
       "<Figure size 640x480 with 1 Axes>"
      ]
     },
     "metadata": {},
     "output_type": "display_data"
    }
   ],
   "source": [
    "# resnet50\n",
    "history_resnet50 = model.train(\n",
    "    model=model.resnet50,\n",
    "    X_train=X_train,\n",
    "    y_train=y_train,\n",
    "    X_val=X_validation,\n",
    "    y_val=y_validation,\n",
    "    modelName=constants.RESNET50\n",
    ");"
   ]
  },
  {
   "cell_type": "markdown",
   "metadata": {},
   "source": [
    "Evaluate the Model"
   ]
  },
  {
   "cell_type": "code",
   "execution_count": 15,
   "metadata": {},
   "outputs": [
    {
     "name": "stderr",
     "output_type": "stream",
     "text": [
      "c:\\Users\\kelvi\\anaconda3\\envs\\tf=2.10\\lib\\site-packages\\sklearn\\preprocessing\\_label.py:114: DataConversionWarning: A column-vector y was passed when a 1d array was expected. Please change the shape of y to (n_samples, ), for example using ravel().\n",
      "  y = column_or_1d(y, warn=True)\n",
      "c:\\Users\\kelvi\\anaconda3\\envs\\tf=2.10\\lib\\site-packages\\sklearn\\preprocessing\\_label.py:114: DataConversionWarning: A column-vector y was passed when a 1d array was expected. Please change the shape of y to (n_samples, ), for example using ravel().\n",
      "  y = column_or_1d(y, warn=True)\n",
      "c:\\Users\\kelvi\\anaconda3\\envs\\tf=2.10\\lib\\site-packages\\sklearn\\preprocessing\\_label.py:114: DataConversionWarning: A column-vector y was passed when a 1d array was expected. Please change the shape of y to (n_samples, ), for example using ravel().\n",
      "  y = column_or_1d(y, warn=True)\n"
     ]
    },
    {
     "name": "stdout",
     "output_type": "stream",
     "text": [
      "Training Binary Cross-Entropy error: -15663.93359375\n",
      "Validation Binary Cross-Entropy error: -15713.11328125\n",
      "Testing Binary Cross-Entropy error: -15483.404296875\n"
     ]
    },
    {
     "data": {
      "text/plain": [
       "([-15663.93359375, 0.13131313025951385],\n",
       " [-15713.11328125, 0.1318681389093399],\n",
       " [-15483.404296875, 0.13108107447624207])"
      ]
     },
     "execution_count": 15,
     "metadata": {},
     "output_type": "execute_result"
    }
   ],
   "source": [
    "'''\n",
    "Output Structure: tuple\n",
    "first array: [training loss, training accuracy],\n",
    "second array: [validation loss, validation accuracy],\n",
    "third array: [test loss, test accuracy]\n",
    "'''\n",
    "model.evaluate(\n",
    "    model=model.resnet50,\n",
    "    X_train=X_train,\n",
    "    y_train=encodeLabel(y_train),\n",
    "    X_val=X_validation,\n",
    "    y_val=encodeLabel(y_validation),\n",
    "    X_test=X_test,\n",
    "    y_test=encodeLabel(y_test)\n",
    ")"
   ]
  },
  {
   "cell_type": "markdown",
   "metadata": {},
   "source": [
    "#### resnet50V2"
   ]
  },
  {
   "cell_type": "code",
   "execution_count": 16,
   "metadata": {},
   "outputs": [
    {
     "name": "stdout",
     "output_type": "stream",
     "text": [
      "Encoded Labels in training set: [0 1 2 3 4 5 6 7 8]\n",
      "Encoded Labels in validation set: [0 1 2 3 4 5 6 7 8]\n",
      "Epoch 1/10\n"
     ]
    },
    {
     "name": "stderr",
     "output_type": "stream",
     "text": [
      "c:\\Users\\kelvi\\anaconda3\\envs\\tf=2.10\\lib\\site-packages\\sklearn\\preprocessing\\_label.py:114: DataConversionWarning: A column-vector y was passed when a 1d array was expected. Please change the shape of y to (n_samples, ), for example using ravel().\n",
      "  y = column_or_1d(y, warn=True)\n",
      "c:\\Users\\kelvi\\anaconda3\\envs\\tf=2.10\\lib\\site-packages\\sklearn\\preprocessing\\_label.py:114: DataConversionWarning: A column-vector y was passed when a 1d array was expected. Please change the shape of y to (n_samples, ), for example using ravel().\n",
      "  y = column_or_1d(y, warn=True)\n"
     ]
    },
    {
     "name": "stdout",
     "output_type": "stream",
     "text": [
      "35/35 [==============================] - 7s 113ms/step - loss: -671.8283 - accuracy: 0.1295 - val_loss: -1885.6921 - val_accuracy: 0.1319\n",
      "Epoch 2/10\n",
      "35/35 [==============================] - 2s 65ms/step - loss: -3799.9473 - accuracy: 0.1313 - val_loss: -6533.2368 - val_accuracy: 0.1319\n",
      "Epoch 3/10\n",
      "35/35 [==============================] - 2s 65ms/step - loss: -10054.2012 - accuracy: 0.1313 - val_loss: -15033.9707 - val_accuracy: 0.1319\n",
      "Epoch 4/10\n",
      "35/35 [==============================] - 2s 65ms/step - loss: -20455.4668 - accuracy: 0.1313 - val_loss: -27873.3965 - val_accuracy: 0.1319\n",
      "Epoch 5/10\n",
      "35/35 [==============================] - 2s 65ms/step - loss: -35032.9570 - accuracy: 0.1313 - val_loss: -45479.6445 - val_accuracy: 0.1319\n",
      "Epoch 6/10\n",
      "35/35 [==============================] - 2s 66ms/step - loss: -54827.1797 - accuracy: 0.1313 - val_loss: -67342.1016 - val_accuracy: 0.1319\n",
      "Epoch 7/10\n",
      "35/35 [==============================] - 2s 66ms/step - loss: -78451.3984 - accuracy: 0.1313 - val_loss: -93757.5703 - val_accuracy: 0.1319\n",
      "Epoch 8/10\n",
      "35/35 [==============================] - 2s 66ms/step - loss: -106670.0625 - accuracy: 0.1313 - val_loss: -124359.3984 - val_accuracy: 0.1319\n",
      "Epoch 9/10\n",
      "35/35 [==============================] - 2s 65ms/step - loss: -139053.0000 - accuracy: 0.1313 - val_loss: -159921.2812 - val_accuracy: 0.1319\n",
      "Epoch 10/10\n",
      "35/35 [==============================] - 2s 66ms/step - loss: -176907.1094 - accuracy: 0.1313 - val_loss: -200180.3438 - val_accuracy: 0.1319\n"
     ]
    },
    {
     "data": {
      "image/png": "[encoded data removed]",
      "text/plain": [
       "<Figure size 640x480 with 1 Axes>"
      ]
     },
     "metadata": {},
     "output_type": "display_data"
    },
    {
     "data": {
      "image/png": "[encoded data removed]",
      "text/plain": [
       "<Figure size 640x480 with 1 Axes>"
      ]
     },
     "metadata": {},
     "output_type": "display_data"
    }
   ],
   "source": [
    "# resnet50V2\n",
    "history_resnet50V2 = model.train(\n",
    "    model=model.resnet50V2,\n",
    "    X_train=X_train,\n",
    "    y_train=y_train,\n",
    "    X_val=X_validation,\n",
    "    y_val=y_validation,\n",
    "    modelName=constants.RESNET50V2\n",
    ");"
   ]
  },
  {
   "cell_type": "markdown",
   "metadata": {},
   "source": [
    "Evaluate the Model"
   ]
  },
  {
   "cell_type": "code",
   "execution_count": 17,
   "metadata": {},
   "outputs": [
    {
     "name": "stderr",
     "output_type": "stream",
     "text": [
      "c:\\Users\\kelvi\\anaconda3\\envs\\tf=2.10\\lib\\site-packages\\sklearn\\preprocessing\\_label.py:114: DataConversionWarning: A column-vector y was passed when a 1d array was expected. Please change the shape of y to (n_samples, ), for example using ravel().\n",
      "  y = column_or_1d(y, warn=True)\n",
      "c:\\Users\\kelvi\\anaconda3\\envs\\tf=2.10\\lib\\site-packages\\sklearn\\preprocessing\\_label.py:114: DataConversionWarning: A column-vector y was passed when a 1d array was expected. Please change the shape of y to (n_samples, ), for example using ravel().\n",
      "  y = column_or_1d(y, warn=True)\n",
      "c:\\Users\\kelvi\\anaconda3\\envs\\tf=2.10\\lib\\site-packages\\sklearn\\preprocessing\\_label.py:114: DataConversionWarning: A column-vector y was passed when a 1d array was expected. Please change the shape of y to (n_samples, ), for example using ravel().\n",
      "  y = column_or_1d(y, warn=True)\n"
     ]
    },
    {
     "name": "stdout",
     "output_type": "stream",
     "text": [
      "Training Binary Cross-Entropy error: -197929.0625\n",
      "Validation Binary Cross-Entropy error: -200180.34375\n",
      "Testing Binary Cross-Entropy error: -160826.265625\n"
     ]
    },
    {
     "data": {
      "text/plain": [
       "([-197929.0625, 0.13131313025951385],\n",
       " [-200180.34375, 0.1318681389093399],\n",
       " [-160826.265625, 0.13108107447624207])"
      ]
     },
     "execution_count": 17,
     "metadata": {},
     "output_type": "execute_result"
    }
   ],
   "source": [
    "'''\n",
    "Output Structure: tuple\n",
    "first array: [training loss, training accuracy],\n",
    "second array: [validation loss, validation accuracy],\n",
    "third array: [test loss, test accuracy]\n",
    "'''\n",
    "model.evaluate(\n",
    "    model=model.resnet50V2,\n",
    "    X_train=X_train,\n",
    "    y_train=encodeLabel(y_train),\n",
    "    X_val=X_validation,\n",
    "    y_val=encodeLabel(y_validation),\n",
    "    X_test=X_test,\n",
    "    y_test=encodeLabel(y_test)\n",
    ")"
   ]
  },
  {
   "cell_type": "markdown",
   "metadata": {},
   "source": [
    "### Make Prediction on the Test Set"
   ]
  },
  {
   "cell_type": "markdown",
   "metadata": {},
   "source": [
    "#### resnet50"
   ]
  },
  {
   "cell_type": "code",
   "execution_count": 18,
   "metadata": {},
   "outputs": [
    {
     "name": "stdout",
     "output_type": "stream",
     "text": [
      "-----Training Set-----\n",
      "35/35 [==============================] - 3s 54ms/step\n",
      "Number of Predictions made: 1089\n",
      "Unique Labels in Prediction: ['dor']\n",
      "-----Validation Set-----\n",
      "3/9 [=========>....................] - ETA: 0s"
     ]
    },
    {
     "name": "stderr",
     "output_type": "stream",
     "text": [
      "c:\\Users\\kelvi\\anaconda3\\envs\\tf=2.10\\lib\\site-packages\\sklearn\\preprocessing\\_label.py:153: DataConversionWarning: A column-vector y was passed when a 1d array was expected. Please change the shape of y to (n_samples, ), for example using ravel().\n",
      "  y = column_or_1d(y, warn=True)\n"
     ]
    },
    {
     "name": "stdout",
     "output_type": "stream",
     "text": [
      "9/9 [==============================] - 0s 56ms/step\n",
      "Number of Predictions made: 273\n",
      "Unique Labels in Prediction: ['dor']\n",
      "-----Test Set-----\n",
      " 1/47 [..............................] - ETA: 2s"
     ]
    },
    {
     "name": "stderr",
     "output_type": "stream",
     "text": [
      "c:\\Users\\kelvi\\anaconda3\\envs\\tf=2.10\\lib\\site-packages\\sklearn\\preprocessing\\_label.py:153: DataConversionWarning: A column-vector y was passed when a 1d array was expected. Please change the shape of y to (n_samples, ), for example using ravel().\n",
      "  y = column_or_1d(y, warn=True)\n"
     ]
    },
    {
     "name": "stdout",
     "output_type": "stream",
     "text": [
      "47/47 [==============================] - 3s 55ms/step\n",
      "Number of Predictions made: 1480\n",
      "Unique Labels in Prediction: ['dor']\n"
     ]
    },
    {
     "name": "stderr",
     "output_type": "stream",
     "text": [
      "c:\\Users\\kelvi\\anaconda3\\envs\\tf=2.10\\lib\\site-packages\\sklearn\\preprocessing\\_label.py:153: DataConversionWarning: A column-vector y was passed when a 1d array was expected. Please change the shape of y to (n_samples, ), for example using ravel().\n",
      "  y = column_or_1d(y, warn=True)\n"
     ]
    }
   ],
   "source": [
    "# resnet50\n",
    "print(\"-----Training Set-----\")\n",
    "y_pred_resnet50_train = model.predict(model.resnet50, X_train);\n",
    "print(\"-----Validation Set-----\")\n",
    "y_pred_resnet50_val = model.predict(model.resnet50, X_validation);\n",
    "print(\"-----Test Set-----\")\n",
    "y_pred_resnet50_test = model.predict(model.resnet50, X_test);"
   ]
  },
  {
   "cell_type": "markdown",
   "metadata": {},
   "source": [
    "#### resnet50V2"
   ]
  },
  {
   "cell_type": "code",
   "execution_count": 19,
   "metadata": {},
   "outputs": [
    {
     "name": "stdout",
     "output_type": "stream",
     "text": [
      "-----Training Set-----\n",
      "35/35 [==============================] - 3s 59ms/step\n",
      "Number of Predictions made: 1089\n",
      "Unique Labels in Prediction: ['dor']\n",
      "-----Validation Set-----\n",
      "3/9 [=========>....................] - ETA: 0s"
     ]
    },
    {
     "name": "stderr",
     "output_type": "stream",
     "text": [
      "c:\\Users\\kelvi\\anaconda3\\envs\\tf=2.10\\lib\\site-packages\\sklearn\\preprocessing\\_label.py:153: DataConversionWarning: A column-vector y was passed when a 1d array was expected. Please change the shape of y to (n_samples, ), for example using ravel().\n",
      "  y = column_or_1d(y, warn=True)\n"
     ]
    },
    {
     "name": "stdout",
     "output_type": "stream",
     "text": [
      "9/9 [==============================] - 0s 49ms/step\n",
      "Number of Predictions made: 273\n",
      "Unique Labels in Prediction: ['dor']\n",
      "-----Test Set-----\n",
      " 1/47 [..............................] - ETA: 1s"
     ]
    },
    {
     "name": "stderr",
     "output_type": "stream",
     "text": [
      "c:\\Users\\kelvi\\anaconda3\\envs\\tf=2.10\\lib\\site-packages\\sklearn\\preprocessing\\_label.py:153: DataConversionWarning: A column-vector y was passed when a 1d array was expected. Please change the shape of y to (n_samples, ), for example using ravel().\n",
      "  y = column_or_1d(y, warn=True)\n"
     ]
    },
    {
     "name": "stdout",
     "output_type": "stream",
     "text": [
      "47/47 [==============================] - 2s 49ms/step\n",
      "Number of Predictions made: 1480\n",
      "Unique Labels in Prediction: ['dor']\n"
     ]
    },
    {
     "name": "stderr",
     "output_type": "stream",
     "text": [
      "c:\\Users\\kelvi\\anaconda3\\envs\\tf=2.10\\lib\\site-packages\\sklearn\\preprocessing\\_label.py:153: DataConversionWarning: A column-vector y was passed when a 1d array was expected. Please change the shape of y to (n_samples, ), for example using ravel().\n",
      "  y = column_or_1d(y, warn=True)\n"
     ]
    }
   ],
   "source": [
    "resnet50 = load_model(\"resnet50-posttrained.h5\");\n",
    "resnet50V2 = load_model(\"resnet50V2-posttrained.h5\");\n",
    "model = Model(\n",
    "    resnet50=resnet50,\n",
    "    resnet50V2=resnet50V2\n",
    ")\n",
    "# resnet50V2\n",
    "print(\"-----Training Set-----\")\n",
    "y_pred_resnet50V2_train = model.predict(model.resnet50V2, X_train);\n",
    "print(\"-----Validation Set-----\")\n",
    "y_pred_resnet50V2_val = model.predict(model.resnet50V2, X_validation);\n",
    "print(\"-----Test Set-----\")\n",
    "y_pred_resnet50V2_test = model.predict(model.resnet50V2, X_test);"
   ]
  },
  {
   "cell_type": "markdown",
   "metadata": {},
   "source": [
    "### Performance Evaluation"
   ]
  },
  {
   "cell_type": "markdown",
   "metadata": {},
   "source": [
    "Print the Confusion Matrix"
   ]
  },
  {
   "cell_type": "markdown",
   "metadata": {},
   "source": [
    "#### resnet50"
   ]
  },
  {
   "cell_type": "code",
   "execution_count": 20,
   "metadata": {},
   "outputs": [
    {
     "name": "stdout",
     "output_type": "stream",
     "text": [
      "Decoded Labels in Prediction array: ['dor']\n"
     ]
    },
    {
     "name": "stderr",
     "output_type": "stream",
     "text": [
      "c:\\Users\\kelvi\\anaconda3\\envs\\tf=2.10\\lib\\site-packages\\sklearn\\preprocessing\\_label.py:153: DataConversionWarning: A column-vector y was passed when a 1d array was expected. Please change the shape of y to (n_samples, ), for example using ravel().\n",
      "  y = column_or_1d(y, warn=True)\n"
     ]
    },
    {
     "data": {
      "text/html": [
       "<div>\n",
       "<style scoped>\n",
       "    .dataframe tbody tr th:only-of-type {\n",
       "        vertical-align: middle;\n",
       "    }\n",
       "\n",
       "    .dataframe tbody tr th {\n",
       "        vertical-align: top;\n",
       "    }\n",
       "\n",
       "    .dataframe thead th {\n",
       "        text-align: right;\n",
       "    }\n",
       "</style>\n",
       "<table border=\"1\" class=\"dataframe\">\n",
       "  <thead>\n",
       "    <tr style=\"text-align: right;\">\n",
       "      <th>Predicted</th>\n",
       "      <th>cal</th>\n",
       "      <th>dor</th>\n",
       "      <th>hes</th>\n",
       "      <th>iso</th>\n",
       "      <th>mos</th>\n",
       "      <th>pte</th>\n",
       "      <th>swe</th>\n",
       "      <th>yor</th>\n",
       "      <th>zap</th>\n",
       "      <th>All</th>\n",
       "    </tr>\n",
       "    <tr>\n",
       "      <th>Actual</th>\n",
       "      <th></th>\n",
       "      <th></th>\n",
       "      <th></th>\n",
       "      <th></th>\n",
       "      <th></th>\n",
       "      <th></th>\n",
       "      <th></th>\n",
       "      <th></th>\n",
       "      <th></th>\n",
       "      <th></th>\n",
       "    </tr>\n",
       "  </thead>\n",
       "  <tbody>\n",
       "    <tr>\n",
       "      <th>cal</th>\n",
       "      <td>0.0</td>\n",
       "      <td>133</td>\n",
       "      <td>0.0</td>\n",
       "      <td>0.0</td>\n",
       "      <td>0.0</td>\n",
       "      <td>0.0</td>\n",
       "      <td>0.0</td>\n",
       "      <td>0.0</td>\n",
       "      <td>0.0</td>\n",
       "      <td>133</td>\n",
       "    </tr>\n",
       "    <tr>\n",
       "      <th>dor</th>\n",
       "      <td>0.0</td>\n",
       "      <td>143</td>\n",
       "      <td>0.0</td>\n",
       "      <td>0.0</td>\n",
       "      <td>0.0</td>\n",
       "      <td>0.0</td>\n",
       "      <td>0.0</td>\n",
       "      <td>0.0</td>\n",
       "      <td>0.0</td>\n",
       "      <td>143</td>\n",
       "    </tr>\n",
       "    <tr>\n",
       "      <th>hes</th>\n",
       "      <td>0.0</td>\n",
       "      <td>136</td>\n",
       "      <td>0.0</td>\n",
       "      <td>0.0</td>\n",
       "      <td>0.0</td>\n",
       "      <td>0.0</td>\n",
       "      <td>0.0</td>\n",
       "      <td>0.0</td>\n",
       "      <td>0.0</td>\n",
       "      <td>136</td>\n",
       "    </tr>\n",
       "    <tr>\n",
       "      <th>iso</th>\n",
       "      <td>0.0</td>\n",
       "      <td>136</td>\n",
       "      <td>0.0</td>\n",
       "      <td>0.0</td>\n",
       "      <td>0.0</td>\n",
       "      <td>0.0</td>\n",
       "      <td>0.0</td>\n",
       "      <td>0.0</td>\n",
       "      <td>0.0</td>\n",
       "      <td>136</td>\n",
       "    </tr>\n",
       "    <tr>\n",
       "      <th>mos</th>\n",
       "      <td>0.0</td>\n",
       "      <td>35</td>\n",
       "      <td>0.0</td>\n",
       "      <td>0.0</td>\n",
       "      <td>0.0</td>\n",
       "      <td>0.0</td>\n",
       "      <td>0.0</td>\n",
       "      <td>0.0</td>\n",
       "      <td>0.0</td>\n",
       "      <td>35</td>\n",
       "    </tr>\n",
       "    <tr>\n",
       "      <th>pte</th>\n",
       "      <td>0.0</td>\n",
       "      <td>71</td>\n",
       "      <td>0.0</td>\n",
       "      <td>0.0</td>\n",
       "      <td>0.0</td>\n",
       "      <td>0.0</td>\n",
       "      <td>0.0</td>\n",
       "      <td>0.0</td>\n",
       "      <td>0.0</td>\n",
       "      <td>71</td>\n",
       "    </tr>\n",
       "    <tr>\n",
       "      <th>swe</th>\n",
       "      <td>0.0</td>\n",
       "      <td>123</td>\n",
       "      <td>0.0</td>\n",
       "      <td>0.0</td>\n",
       "      <td>0.0</td>\n",
       "      <td>0.0</td>\n",
       "      <td>0.0</td>\n",
       "      <td>0.0</td>\n",
       "      <td>0.0</td>\n",
       "      <td>123</td>\n",
       "    </tr>\n",
       "    <tr>\n",
       "      <th>yor</th>\n",
       "      <td>0.0</td>\n",
       "      <td>134</td>\n",
       "      <td>0.0</td>\n",
       "      <td>0.0</td>\n",
       "      <td>0.0</td>\n",
       "      <td>0.0</td>\n",
       "      <td>0.0</td>\n",
       "      <td>0.0</td>\n",
       "      <td>0.0</td>\n",
       "      <td>134</td>\n",
       "    </tr>\n",
       "    <tr>\n",
       "      <th>zap</th>\n",
       "      <td>0.0</td>\n",
       "      <td>178</td>\n",
       "      <td>0.0</td>\n",
       "      <td>0.0</td>\n",
       "      <td>0.0</td>\n",
       "      <td>0.0</td>\n",
       "      <td>0.0</td>\n",
       "      <td>0.0</td>\n",
       "      <td>0.0</td>\n",
       "      <td>178</td>\n",
       "    </tr>\n",
       "    <tr>\n",
       "      <th>All</th>\n",
       "      <td>0.0</td>\n",
       "      <td>1089</td>\n",
       "      <td>0.0</td>\n",
       "      <td>0.0</td>\n",
       "      <td>0.0</td>\n",
       "      <td>0.0</td>\n",
       "      <td>0.0</td>\n",
       "      <td>0.0</td>\n",
       "      <td>0.0</td>\n",
       "      <td>1089</td>\n",
       "    </tr>\n",
       "  </tbody>\n",
       "</table>\n",
       "</div>"
      ],
      "text/plain": [
       "Predicted  cal   dor  hes  iso  mos  pte  swe  yor  zap   All\n",
       "Actual                                                       \n",
       "cal        0.0   133  0.0  0.0  0.0  0.0  0.0  0.0  0.0   133\n",
       "dor        0.0   143  0.0  0.0  0.0  0.0  0.0  0.0  0.0   143\n",
       "hes        0.0   136  0.0  0.0  0.0  0.0  0.0  0.0  0.0   136\n",
       "iso        0.0   136  0.0  0.0  0.0  0.0  0.0  0.0  0.0   136\n",
       "mos        0.0    35  0.0  0.0  0.0  0.0  0.0  0.0  0.0    35\n",
       "pte        0.0    71  0.0  0.0  0.0  0.0  0.0  0.0  0.0    71\n",
       "swe        0.0   123  0.0  0.0  0.0  0.0  0.0  0.0  0.0   123\n",
       "yor        0.0   134  0.0  0.0  0.0  0.0  0.0  0.0  0.0   134\n",
       "zap        0.0   178  0.0  0.0  0.0  0.0  0.0  0.0  0.0   178\n",
       "All        0.0  1089  0.0  0.0  0.0  0.0  0.0  0.0  0.0  1089"
      ]
     },
     "execution_count": 20,
     "metadata": {},
     "output_type": "execute_result"
    }
   ],
   "source": [
    "# training set\n",
    "confMtx_resnet50_train = printConfMtx(\n",
    "    y_true=y_train,\n",
    "    y_pred=y_pred_resnet50_train\n",
    ");\n",
    "confMtx_resnet50_train"
   ]
  },
  {
   "cell_type": "code",
   "execution_count": 21,
   "metadata": {},
   "outputs": [
    {
     "name": "stdout",
     "output_type": "stream",
     "text": [
      "Decoded Labels in Prediction array: ['dor']\n"
     ]
    },
    {
     "name": "stderr",
     "output_type": "stream",
     "text": [
      "c:\\Users\\kelvi\\anaconda3\\envs\\tf=2.10\\lib\\site-packages\\sklearn\\preprocessing\\_label.py:153: DataConversionWarning: A column-vector y was passed when a 1d array was expected. Please change the shape of y to (n_samples, ), for example using ravel().\n",
      "  y = column_or_1d(y, warn=True)\n"
     ]
    },
    {
     "data": {
      "text/html": [
       "<div>\n",
       "<style scoped>\n",
       "    .dataframe tbody tr th:only-of-type {\n",
       "        vertical-align: middle;\n",
       "    }\n",
       "\n",
       "    .dataframe tbody tr th {\n",
       "        vertical-align: top;\n",
       "    }\n",
       "\n",
       "    .dataframe thead th {\n",
       "        text-align: right;\n",
       "    }\n",
       "</style>\n",
       "<table border=\"1\" class=\"dataframe\">\n",
       "  <thead>\n",
       "    <tr style=\"text-align: right;\">\n",
       "      <th>Predicted</th>\n",
       "      <th>cal</th>\n",
       "      <th>dor</th>\n",
       "      <th>hes</th>\n",
       "      <th>iso</th>\n",
       "      <th>mos</th>\n",
       "      <th>pte</th>\n",
       "      <th>swe</th>\n",
       "      <th>yor</th>\n",
       "      <th>zap</th>\n",
       "      <th>All</th>\n",
       "    </tr>\n",
       "    <tr>\n",
       "      <th>Actual</th>\n",
       "      <th></th>\n",
       "      <th></th>\n",
       "      <th></th>\n",
       "      <th></th>\n",
       "      <th></th>\n",
       "      <th></th>\n",
       "      <th></th>\n",
       "      <th></th>\n",
       "      <th></th>\n",
       "      <th></th>\n",
       "    </tr>\n",
       "  </thead>\n",
       "  <tbody>\n",
       "    <tr>\n",
       "      <th>cal</th>\n",
       "      <td>0.0</td>\n",
       "      <td>33</td>\n",
       "      <td>0.0</td>\n",
       "      <td>0.0</td>\n",
       "      <td>0.0</td>\n",
       "      <td>0.0</td>\n",
       "      <td>0.0</td>\n",
       "      <td>0.0</td>\n",
       "      <td>0.0</td>\n",
       "      <td>33</td>\n",
       "    </tr>\n",
       "    <tr>\n",
       "      <th>dor</th>\n",
       "      <td>0.0</td>\n",
       "      <td>36</td>\n",
       "      <td>0.0</td>\n",
       "      <td>0.0</td>\n",
       "      <td>0.0</td>\n",
       "      <td>0.0</td>\n",
       "      <td>0.0</td>\n",
       "      <td>0.0</td>\n",
       "      <td>0.0</td>\n",
       "      <td>36</td>\n",
       "    </tr>\n",
       "    <tr>\n",
       "      <th>hes</th>\n",
       "      <td>0.0</td>\n",
       "      <td>34</td>\n",
       "      <td>0.0</td>\n",
       "      <td>0.0</td>\n",
       "      <td>0.0</td>\n",
       "      <td>0.0</td>\n",
       "      <td>0.0</td>\n",
       "      <td>0.0</td>\n",
       "      <td>0.0</td>\n",
       "      <td>34</td>\n",
       "    </tr>\n",
       "    <tr>\n",
       "      <th>iso</th>\n",
       "      <td>0.0</td>\n",
       "      <td>34</td>\n",
       "      <td>0.0</td>\n",
       "      <td>0.0</td>\n",
       "      <td>0.0</td>\n",
       "      <td>0.0</td>\n",
       "      <td>0.0</td>\n",
       "      <td>0.0</td>\n",
       "      <td>0.0</td>\n",
       "      <td>34</td>\n",
       "    </tr>\n",
       "    <tr>\n",
       "      <th>mos</th>\n",
       "      <td>0.0</td>\n",
       "      <td>9</td>\n",
       "      <td>0.0</td>\n",
       "      <td>0.0</td>\n",
       "      <td>0.0</td>\n",
       "      <td>0.0</td>\n",
       "      <td>0.0</td>\n",
       "      <td>0.0</td>\n",
       "      <td>0.0</td>\n",
       "      <td>9</td>\n",
       "    </tr>\n",
       "    <tr>\n",
       "      <th>pte</th>\n",
       "      <td>0.0</td>\n",
       "      <td>18</td>\n",
       "      <td>0.0</td>\n",
       "      <td>0.0</td>\n",
       "      <td>0.0</td>\n",
       "      <td>0.0</td>\n",
       "      <td>0.0</td>\n",
       "      <td>0.0</td>\n",
       "      <td>0.0</td>\n",
       "      <td>18</td>\n",
       "    </tr>\n",
       "    <tr>\n",
       "      <th>swe</th>\n",
       "      <td>0.0</td>\n",
       "      <td>30</td>\n",
       "      <td>0.0</td>\n",
       "      <td>0.0</td>\n",
       "      <td>0.0</td>\n",
       "      <td>0.0</td>\n",
       "      <td>0.0</td>\n",
       "      <td>0.0</td>\n",
       "      <td>0.0</td>\n",
       "      <td>30</td>\n",
       "    </tr>\n",
       "    <tr>\n",
       "      <th>yor</th>\n",
       "      <td>0.0</td>\n",
       "      <td>34</td>\n",
       "      <td>0.0</td>\n",
       "      <td>0.0</td>\n",
       "      <td>0.0</td>\n",
       "      <td>0.0</td>\n",
       "      <td>0.0</td>\n",
       "      <td>0.0</td>\n",
       "      <td>0.0</td>\n",
       "      <td>34</td>\n",
       "    </tr>\n",
       "    <tr>\n",
       "      <th>zap</th>\n",
       "      <td>0.0</td>\n",
       "      <td>45</td>\n",
       "      <td>0.0</td>\n",
       "      <td>0.0</td>\n",
       "      <td>0.0</td>\n",
       "      <td>0.0</td>\n",
       "      <td>0.0</td>\n",
       "      <td>0.0</td>\n",
       "      <td>0.0</td>\n",
       "      <td>45</td>\n",
       "    </tr>\n",
       "    <tr>\n",
       "      <th>All</th>\n",
       "      <td>0.0</td>\n",
       "      <td>273</td>\n",
       "      <td>0.0</td>\n",
       "      <td>0.0</td>\n",
       "      <td>0.0</td>\n",
       "      <td>0.0</td>\n",
       "      <td>0.0</td>\n",
       "      <td>0.0</td>\n",
       "      <td>0.0</td>\n",
       "      <td>273</td>\n",
       "    </tr>\n",
       "  </tbody>\n",
       "</table>\n",
       "</div>"
      ],
      "text/plain": [
       "Predicted  cal  dor  hes  iso  mos  pte  swe  yor  zap  All\n",
       "Actual                                                     \n",
       "cal        0.0   33  0.0  0.0  0.0  0.0  0.0  0.0  0.0   33\n",
       "dor        0.0   36  0.0  0.0  0.0  0.0  0.0  0.0  0.0   36\n",
       "hes        0.0   34  0.0  0.0  0.0  0.0  0.0  0.0  0.0   34\n",
       "iso        0.0   34  0.0  0.0  0.0  0.0  0.0  0.0  0.0   34\n",
       "mos        0.0    9  0.0  0.0  0.0  0.0  0.0  0.0  0.0    9\n",
       "pte        0.0   18  0.0  0.0  0.0  0.0  0.0  0.0  0.0   18\n",
       "swe        0.0   30  0.0  0.0  0.0  0.0  0.0  0.0  0.0   30\n",
       "yor        0.0   34  0.0  0.0  0.0  0.0  0.0  0.0  0.0   34\n",
       "zap        0.0   45  0.0  0.0  0.0  0.0  0.0  0.0  0.0   45\n",
       "All        0.0  273  0.0  0.0  0.0  0.0  0.0  0.0  0.0  273"
      ]
     },
     "execution_count": 21,
     "metadata": {},
     "output_type": "execute_result"
    }
   ],
   "source": [
    "# validation set\n",
    "confMtx_resnet50_val = printConfMtx(\n",
    "    y_true=y_validation,\n",
    "    y_pred=y_pred_resnet50_val\n",
    ");\n",
    "confMtx_resnet50_val"
   ]
  },
  {
   "cell_type": "code",
   "execution_count": 22,
   "metadata": {},
   "outputs": [
    {
     "name": "stdout",
     "output_type": "stream",
     "text": [
      "Decoded Labels in Prediction array: ['dor']\n"
     ]
    },
    {
     "name": "stderr",
     "output_type": "stream",
     "text": [
      "c:\\Users\\kelvi\\anaconda3\\envs\\tf=2.10\\lib\\site-packages\\sklearn\\preprocessing\\_label.py:153: DataConversionWarning: A column-vector y was passed when a 1d array was expected. Please change the shape of y to (n_samples, ), for example using ravel().\n",
      "  y = column_or_1d(y, warn=True)\n"
     ]
    },
    {
     "data": {
      "text/html": [
       "<div>\n",
       "<style scoped>\n",
       "    .dataframe tbody tr th:only-of-type {\n",
       "        vertical-align: middle;\n",
       "    }\n",
       "\n",
       "    .dataframe tbody tr th {\n",
       "        vertical-align: top;\n",
       "    }\n",
       "\n",
       "    .dataframe thead th {\n",
       "        text-align: right;\n",
       "    }\n",
       "</style>\n",
       "<table border=\"1\" class=\"dataframe\">\n",
       "  <thead>\n",
       "    <tr style=\"text-align: right;\">\n",
       "      <th>Predicted</th>\n",
       "      <th>cal</th>\n",
       "      <th>dor</th>\n",
       "      <th>hes</th>\n",
       "      <th>iso</th>\n",
       "      <th>mos</th>\n",
       "      <th>pte</th>\n",
       "      <th>swe</th>\n",
       "      <th>yor</th>\n",
       "      <th>zap</th>\n",
       "      <th>All</th>\n",
       "    </tr>\n",
       "    <tr>\n",
       "      <th>Actual</th>\n",
       "      <th></th>\n",
       "      <th></th>\n",
       "      <th></th>\n",
       "      <th></th>\n",
       "      <th></th>\n",
       "      <th></th>\n",
       "      <th></th>\n",
       "      <th></th>\n",
       "      <th></th>\n",
       "      <th></th>\n",
       "    </tr>\n",
       "  </thead>\n",
       "  <tbody>\n",
       "    <tr>\n",
       "      <th>cal</th>\n",
       "      <td>0.0</td>\n",
       "      <td>171</td>\n",
       "      <td>0.0</td>\n",
       "      <td>0.0</td>\n",
       "      <td>0.0</td>\n",
       "      <td>0.0</td>\n",
       "      <td>0.0</td>\n",
       "      <td>0.0</td>\n",
       "      <td>0.0</td>\n",
       "      <td>171</td>\n",
       "    </tr>\n",
       "    <tr>\n",
       "      <th>dor</th>\n",
       "      <td>0.0</td>\n",
       "      <td>194</td>\n",
       "      <td>0.0</td>\n",
       "      <td>0.0</td>\n",
       "      <td>0.0</td>\n",
       "      <td>0.0</td>\n",
       "      <td>0.0</td>\n",
       "      <td>0.0</td>\n",
       "      <td>0.0</td>\n",
       "      <td>194</td>\n",
       "    </tr>\n",
       "    <tr>\n",
       "      <th>hes</th>\n",
       "      <td>0.0</td>\n",
       "      <td>200</td>\n",
       "      <td>0.0</td>\n",
       "      <td>0.0</td>\n",
       "      <td>0.0</td>\n",
       "      <td>0.0</td>\n",
       "      <td>0.0</td>\n",
       "      <td>0.0</td>\n",
       "      <td>0.0</td>\n",
       "      <td>200</td>\n",
       "    </tr>\n",
       "    <tr>\n",
       "      <th>iso</th>\n",
       "      <td>0.0</td>\n",
       "      <td>200</td>\n",
       "      <td>0.0</td>\n",
       "      <td>0.0</td>\n",
       "      <td>0.0</td>\n",
       "      <td>0.0</td>\n",
       "      <td>0.0</td>\n",
       "      <td>0.0</td>\n",
       "      <td>0.0</td>\n",
       "      <td>200</td>\n",
       "    </tr>\n",
       "    <tr>\n",
       "      <th>mos</th>\n",
       "      <td>0.0</td>\n",
       "      <td>35</td>\n",
       "      <td>0.0</td>\n",
       "      <td>0.0</td>\n",
       "      <td>0.0</td>\n",
       "      <td>0.0</td>\n",
       "      <td>0.0</td>\n",
       "      <td>0.0</td>\n",
       "      <td>0.0</td>\n",
       "      <td>35</td>\n",
       "    </tr>\n",
       "    <tr>\n",
       "      <th>pte</th>\n",
       "      <td>0.0</td>\n",
       "      <td>55</td>\n",
       "      <td>0.0</td>\n",
       "      <td>0.0</td>\n",
       "      <td>0.0</td>\n",
       "      <td>0.0</td>\n",
       "      <td>0.0</td>\n",
       "      <td>0.0</td>\n",
       "      <td>0.0</td>\n",
       "      <td>55</td>\n",
       "    </tr>\n",
       "    <tr>\n",
       "      <th>swe</th>\n",
       "      <td>0.0</td>\n",
       "      <td>185</td>\n",
       "      <td>0.0</td>\n",
       "      <td>0.0</td>\n",
       "      <td>0.0</td>\n",
       "      <td>0.0</td>\n",
       "      <td>0.0</td>\n",
       "      <td>0.0</td>\n",
       "      <td>0.0</td>\n",
       "      <td>185</td>\n",
       "    </tr>\n",
       "    <tr>\n",
       "      <th>yor</th>\n",
       "      <td>0.0</td>\n",
       "      <td>290</td>\n",
       "      <td>0.0</td>\n",
       "      <td>0.0</td>\n",
       "      <td>0.0</td>\n",
       "      <td>0.0</td>\n",
       "      <td>0.0</td>\n",
       "      <td>0.0</td>\n",
       "      <td>0.0</td>\n",
       "      <td>290</td>\n",
       "    </tr>\n",
       "    <tr>\n",
       "      <th>zap</th>\n",
       "      <td>0.0</td>\n",
       "      <td>150</td>\n",
       "      <td>0.0</td>\n",
       "      <td>0.0</td>\n",
       "      <td>0.0</td>\n",
       "      <td>0.0</td>\n",
       "      <td>0.0</td>\n",
       "      <td>0.0</td>\n",
       "      <td>0.0</td>\n",
       "      <td>150</td>\n",
       "    </tr>\n",
       "    <tr>\n",
       "      <th>All</th>\n",
       "      <td>0.0</td>\n",
       "      <td>1480</td>\n",
       "      <td>0.0</td>\n",
       "      <td>0.0</td>\n",
       "      <td>0.0</td>\n",
       "      <td>0.0</td>\n",
       "      <td>0.0</td>\n",
       "      <td>0.0</td>\n",
       "      <td>0.0</td>\n",
       "      <td>1480</td>\n",
       "    </tr>\n",
       "  </tbody>\n",
       "</table>\n",
       "</div>"
      ],
      "text/plain": [
       "Predicted  cal   dor  hes  iso  mos  pte  swe  yor  zap   All\n",
       "Actual                                                       \n",
       "cal        0.0   171  0.0  0.0  0.0  0.0  0.0  0.0  0.0   171\n",
       "dor        0.0   194  0.0  0.0  0.0  0.0  0.0  0.0  0.0   194\n",
       "hes        0.0   200  0.0  0.0  0.0  0.0  0.0  0.0  0.0   200\n",
       "iso        0.0   200  0.0  0.0  0.0  0.0  0.0  0.0  0.0   200\n",
       "mos        0.0    35  0.0  0.0  0.0  0.0  0.0  0.0  0.0    35\n",
       "pte        0.0    55  0.0  0.0  0.0  0.0  0.0  0.0  0.0    55\n",
       "swe        0.0   185  0.0  0.0  0.0  0.0  0.0  0.0  0.0   185\n",
       "yor        0.0   290  0.0  0.0  0.0  0.0  0.0  0.0  0.0   290\n",
       "zap        0.0   150  0.0  0.0  0.0  0.0  0.0  0.0  0.0   150\n",
       "All        0.0  1480  0.0  0.0  0.0  0.0  0.0  0.0  0.0  1480"
      ]
     },
     "execution_count": 22,
     "metadata": {},
     "output_type": "execute_result"
    }
   ],
   "source": [
    "# test set\n",
    "confMtx_resnet50_test = printConfMtx(\n",
    "    y_true=y_test,\n",
    "    y_pred=y_pred_resnet50_test\n",
    ");\n",
    "confMtx_resnet50_test"
   ]
  },
  {
   "cell_type": "markdown",
   "metadata": {},
   "source": [
    "#### resnet50V2"
   ]
  },
  {
   "cell_type": "code",
   "execution_count": 23,
   "metadata": {},
   "outputs": [
    {
     "name": "stdout",
     "output_type": "stream",
     "text": [
      "Decoded Labels in Prediction array: ['dor']\n"
     ]
    },
    {
     "name": "stderr",
     "output_type": "stream",
     "text": [
      "c:\\Users\\kelvi\\anaconda3\\envs\\tf=2.10\\lib\\site-packages\\sklearn\\preprocessing\\_label.py:153: DataConversionWarning: A column-vector y was passed when a 1d array was expected. Please change the shape of y to (n_samples, ), for example using ravel().\n",
      "  y = column_or_1d(y, warn=True)\n"
     ]
    },
    {
     "data": {
      "text/html": [
       "<div>\n",
       "<style scoped>\n",
       "    .dataframe tbody tr th:only-of-type {\n",
       "        vertical-align: middle;\n",
       "    }\n",
       "\n",
       "    .dataframe tbody tr th {\n",
       "        vertical-align: top;\n",
       "    }\n",
       "\n",
       "    .dataframe thead th {\n",
       "        text-align: right;\n",
       "    }\n",
       "</style>\n",
       "<table border=\"1\" class=\"dataframe\">\n",
       "  <thead>\n",
       "    <tr style=\"text-align: right;\">\n",
       "      <th>Predicted</th>\n",
       "      <th>cal</th>\n",
       "      <th>dor</th>\n",
       "      <th>hes</th>\n",
       "      <th>iso</th>\n",
       "      <th>mos</th>\n",
       "      <th>pte</th>\n",
       "      <th>swe</th>\n",
       "      <th>yor</th>\n",
       "      <th>zap</th>\n",
       "      <th>All</th>\n",
       "    </tr>\n",
       "    <tr>\n",
       "      <th>Actual</th>\n",
       "      <th></th>\n",
       "      <th></th>\n",
       "      <th></th>\n",
       "      <th></th>\n",
       "      <th></th>\n",
       "      <th></th>\n",
       "      <th></th>\n",
       "      <th></th>\n",
       "      <th></th>\n",
       "      <th></th>\n",
       "    </tr>\n",
       "  </thead>\n",
       "  <tbody>\n",
       "    <tr>\n",
       "      <th>cal</th>\n",
       "      <td>0.0</td>\n",
       "      <td>133</td>\n",
       "      <td>0.0</td>\n",
       "      <td>0.0</td>\n",
       "      <td>0.0</td>\n",
       "      <td>0.0</td>\n",
       "      <td>0.0</td>\n",
       "      <td>0.0</td>\n",
       "      <td>0.0</td>\n",
       "      <td>133</td>\n",
       "    </tr>\n",
       "    <tr>\n",
       "      <th>dor</th>\n",
       "      <td>0.0</td>\n",
       "      <td>143</td>\n",
       "      <td>0.0</td>\n",
       "      <td>0.0</td>\n",
       "      <td>0.0</td>\n",
       "      <td>0.0</td>\n",
       "      <td>0.0</td>\n",
       "      <td>0.0</td>\n",
       "      <td>0.0</td>\n",
       "      <td>143</td>\n",
       "    </tr>\n",
       "    <tr>\n",
       "      <th>hes</th>\n",
       "      <td>0.0</td>\n",
       "      <td>136</td>\n",
       "      <td>0.0</td>\n",
       "      <td>0.0</td>\n",
       "      <td>0.0</td>\n",
       "      <td>0.0</td>\n",
       "      <td>0.0</td>\n",
       "      <td>0.0</td>\n",
       "      <td>0.0</td>\n",
       "      <td>136</td>\n",
       "    </tr>\n",
       "    <tr>\n",
       "      <th>iso</th>\n",
       "      <td>0.0</td>\n",
       "      <td>136</td>\n",
       "      <td>0.0</td>\n",
       "      <td>0.0</td>\n",
       "      <td>0.0</td>\n",
       "      <td>0.0</td>\n",
       "      <td>0.0</td>\n",
       "      <td>0.0</td>\n",
       "      <td>0.0</td>\n",
       "      <td>136</td>\n",
       "    </tr>\n",
       "    <tr>\n",
       "      <th>mos</th>\n",
       "      <td>0.0</td>\n",
       "      <td>35</td>\n",
       "      <td>0.0</td>\n",
       "      <td>0.0</td>\n",
       "      <td>0.0</td>\n",
       "      <td>0.0</td>\n",
       "      <td>0.0</td>\n",
       "      <td>0.0</td>\n",
       "      <td>0.0</td>\n",
       "      <td>35</td>\n",
       "    </tr>\n",
       "    <tr>\n",
       "      <th>pte</th>\n",
       "      <td>0.0</td>\n",
       "      <td>71</td>\n",
       "      <td>0.0</td>\n",
       "      <td>0.0</td>\n",
       "      <td>0.0</td>\n",
       "      <td>0.0</td>\n",
       "      <td>0.0</td>\n",
       "      <td>0.0</td>\n",
       "      <td>0.0</td>\n",
       "      <td>71</td>\n",
       "    </tr>\n",
       "    <tr>\n",
       "      <th>swe</th>\n",
       "      <td>0.0</td>\n",
       "      <td>123</td>\n",
       "      <td>0.0</td>\n",
       "      <td>0.0</td>\n",
       "      <td>0.0</td>\n",
       "      <td>0.0</td>\n",
       "      <td>0.0</td>\n",
       "      <td>0.0</td>\n",
       "      <td>0.0</td>\n",
       "      <td>123</td>\n",
       "    </tr>\n",
       "    <tr>\n",
       "      <th>yor</th>\n",
       "      <td>0.0</td>\n",
       "      <td>134</td>\n",
       "      <td>0.0</td>\n",
       "      <td>0.0</td>\n",
       "      <td>0.0</td>\n",
       "      <td>0.0</td>\n",
       "      <td>0.0</td>\n",
       "      <td>0.0</td>\n",
       "      <td>0.0</td>\n",
       "      <td>134</td>\n",
       "    </tr>\n",
       "    <tr>\n",
       "      <th>zap</th>\n",
       "      <td>0.0</td>\n",
       "      <td>178</td>\n",
       "      <td>0.0</td>\n",
       "      <td>0.0</td>\n",
       "      <td>0.0</td>\n",
       "      <td>0.0</td>\n",
       "      <td>0.0</td>\n",
       "      <td>0.0</td>\n",
       "      <td>0.0</td>\n",
       "      <td>178</td>\n",
       "    </tr>\n",
       "    <tr>\n",
       "      <th>All</th>\n",
       "      <td>0.0</td>\n",
       "      <td>1089</td>\n",
       "      <td>0.0</td>\n",
       "      <td>0.0</td>\n",
       "      <td>0.0</td>\n",
       "      <td>0.0</td>\n",
       "      <td>0.0</td>\n",
       "      <td>0.0</td>\n",
       "      <td>0.0</td>\n",
       "      <td>1089</td>\n",
       "    </tr>\n",
       "  </tbody>\n",
       "</table>\n",
       "</div>"
      ],
      "text/plain": [
       "Predicted  cal   dor  hes  iso  mos  pte  swe  yor  zap   All\n",
       "Actual                                                       \n",
       "cal        0.0   133  0.0  0.0  0.0  0.0  0.0  0.0  0.0   133\n",
       "dor        0.0   143  0.0  0.0  0.0  0.0  0.0  0.0  0.0   143\n",
       "hes        0.0   136  0.0  0.0  0.0  0.0  0.0  0.0  0.0   136\n",
       "iso        0.0   136  0.0  0.0  0.0  0.0  0.0  0.0  0.0   136\n",
       "mos        0.0    35  0.0  0.0  0.0  0.0  0.0  0.0  0.0    35\n",
       "pte        0.0    71  0.0  0.0  0.0  0.0  0.0  0.0  0.0    71\n",
       "swe        0.0   123  0.0  0.0  0.0  0.0  0.0  0.0  0.0   123\n",
       "yor        0.0   134  0.0  0.0  0.0  0.0  0.0  0.0  0.0   134\n",
       "zap        0.0   178  0.0  0.0  0.0  0.0  0.0  0.0  0.0   178\n",
       "All        0.0  1089  0.0  0.0  0.0  0.0  0.0  0.0  0.0  1089"
      ]
     },
     "execution_count": 23,
     "metadata": {},
     "output_type": "execute_result"
    }
   ],
   "source": [
    "# training set\n",
    "confMtx_resnet50V2_train = printConfMtx(\n",
    "    y_true=y_train,\n",
    "    y_pred=y_pred_resnet50V2_train\n",
    ");\n",
    "confMtx_resnet50V2_train"
   ]
  },
  {
   "cell_type": "code",
   "execution_count": 24,
   "metadata": {},
   "outputs": [
    {
     "name": "stdout",
     "output_type": "stream",
     "text": [
      "Decoded Labels in Prediction array: ['dor']\n"
     ]
    },
    {
     "name": "stderr",
     "output_type": "stream",
     "text": [
      "c:\\Users\\kelvi\\anaconda3\\envs\\tf=2.10\\lib\\site-packages\\sklearn\\preprocessing\\_label.py:153: DataConversionWarning: A column-vector y was passed when a 1d array was expected. Please change the shape of y to (n_samples, ), for example using ravel().\n",
      "  y = column_or_1d(y, warn=True)\n"
     ]
    },
    {
     "data": {
      "text/html": [
       "<div>\n",
       "<style scoped>\n",
       "    .dataframe tbody tr th:only-of-type {\n",
       "        vertical-align: middle;\n",
       "    }\n",
       "\n",
       "    .dataframe tbody tr th {\n",
       "        vertical-align: top;\n",
       "    }\n",
       "\n",
       "    .dataframe thead th {\n",
       "        text-align: right;\n",
       "    }\n",
       "</style>\n",
       "<table border=\"1\" class=\"dataframe\">\n",
       "  <thead>\n",
       "    <tr style=\"text-align: right;\">\n",
       "      <th>Predicted</th>\n",
       "      <th>cal</th>\n",
       "      <th>dor</th>\n",
       "      <th>hes</th>\n",
       "      <th>iso</th>\n",
       "      <th>mos</th>\n",
       "      <th>pte</th>\n",
       "      <th>swe</th>\n",
       "      <th>yor</th>\n",
       "      <th>zap</th>\n",
       "      <th>All</th>\n",
       "    </tr>\n",
       "    <tr>\n",
       "      <th>Actual</th>\n",
       "      <th></th>\n",
       "      <th></th>\n",
       "      <th></th>\n",
       "      <th></th>\n",
       "      <th></th>\n",
       "      <th></th>\n",
       "      <th></th>\n",
       "      <th></th>\n",
       "      <th></th>\n",
       "      <th></th>\n",
       "    </tr>\n",
       "  </thead>\n",
       "  <tbody>\n",
       "    <tr>\n",
       "      <th>cal</th>\n",
       "      <td>0.0</td>\n",
       "      <td>33</td>\n",
       "      <td>0.0</td>\n",
       "      <td>0.0</td>\n",
       "      <td>0.0</td>\n",
       "      <td>0.0</td>\n",
       "      <td>0.0</td>\n",
       "      <td>0.0</td>\n",
       "      <td>0.0</td>\n",
       "      <td>33</td>\n",
       "    </tr>\n",
       "    <tr>\n",
       "      <th>dor</th>\n",
       "      <td>0.0</td>\n",
       "      <td>36</td>\n",
       "      <td>0.0</td>\n",
       "      <td>0.0</td>\n",
       "      <td>0.0</td>\n",
       "      <td>0.0</td>\n",
       "      <td>0.0</td>\n",
       "      <td>0.0</td>\n",
       "      <td>0.0</td>\n",
       "      <td>36</td>\n",
       "    </tr>\n",
       "    <tr>\n",
       "      <th>hes</th>\n",
       "      <td>0.0</td>\n",
       "      <td>34</td>\n",
       "      <td>0.0</td>\n",
       "      <td>0.0</td>\n",
       "      <td>0.0</td>\n",
       "      <td>0.0</td>\n",
       "      <td>0.0</td>\n",
       "      <td>0.0</td>\n",
       "      <td>0.0</td>\n",
       "      <td>34</td>\n",
       "    </tr>\n",
       "    <tr>\n",
       "      <th>iso</th>\n",
       "      <td>0.0</td>\n",
       "      <td>34</td>\n",
       "      <td>0.0</td>\n",
       "      <td>0.0</td>\n",
       "      <td>0.0</td>\n",
       "      <td>0.0</td>\n",
       "      <td>0.0</td>\n",
       "      <td>0.0</td>\n",
       "      <td>0.0</td>\n",
       "      <td>34</td>\n",
       "    </tr>\n",
       "    <tr>\n",
       "      <th>mos</th>\n",
       "      <td>0.0</td>\n",
       "      <td>9</td>\n",
       "      <td>0.0</td>\n",
       "      <td>0.0</td>\n",
       "      <td>0.0</td>\n",
       "      <td>0.0</td>\n",
       "      <td>0.0</td>\n",
       "      <td>0.0</td>\n",
       "      <td>0.0</td>\n",
       "      <td>9</td>\n",
       "    </tr>\n",
       "    <tr>\n",
       "      <th>pte</th>\n",
       "      <td>0.0</td>\n",
       "      <td>18</td>\n",
       "      <td>0.0</td>\n",
       "      <td>0.0</td>\n",
       "      <td>0.0</td>\n",
       "      <td>0.0</td>\n",
       "      <td>0.0</td>\n",
       "      <td>0.0</td>\n",
       "      <td>0.0</td>\n",
       "      <td>18</td>\n",
       "    </tr>\n",
       "    <tr>\n",
       "      <th>swe</th>\n",
       "      <td>0.0</td>\n",
       "      <td>30</td>\n",
       "      <td>0.0</td>\n",
       "      <td>0.0</td>\n",
       "      <td>0.0</td>\n",
       "      <td>0.0</td>\n",
       "      <td>0.0</td>\n",
       "      <td>0.0</td>\n",
       "      <td>0.0</td>\n",
       "      <td>30</td>\n",
       "    </tr>\n",
       "    <tr>\n",
       "      <th>yor</th>\n",
       "      <td>0.0</td>\n",
       "      <td>34</td>\n",
       "      <td>0.0</td>\n",
       "      <td>0.0</td>\n",
       "      <td>0.0</td>\n",
       "      <td>0.0</td>\n",
       "      <td>0.0</td>\n",
       "      <td>0.0</td>\n",
       "      <td>0.0</td>\n",
       "      <td>34</td>\n",
       "    </tr>\n",
       "    <tr>\n",
       "      <th>zap</th>\n",
       "      <td>0.0</td>\n",
       "      <td>45</td>\n",
       "      <td>0.0</td>\n",
       "      <td>0.0</td>\n",
       "      <td>0.0</td>\n",
       "      <td>0.0</td>\n",
       "      <td>0.0</td>\n",
       "      <td>0.0</td>\n",
       "      <td>0.0</td>\n",
       "      <td>45</td>\n",
       "    </tr>\n",
       "    <tr>\n",
       "      <th>All</th>\n",
       "      <td>0.0</td>\n",
       "      <td>273</td>\n",
       "      <td>0.0</td>\n",
       "      <td>0.0</td>\n",
       "      <td>0.0</td>\n",
       "      <td>0.0</td>\n",
       "      <td>0.0</td>\n",
       "      <td>0.0</td>\n",
       "      <td>0.0</td>\n",
       "      <td>273</td>\n",
       "    </tr>\n",
       "  </tbody>\n",
       "</table>\n",
       "</div>"
      ],
      "text/plain": [
       "Predicted  cal  dor  hes  iso  mos  pte  swe  yor  zap  All\n",
       "Actual                                                     \n",
       "cal        0.0   33  0.0  0.0  0.0  0.0  0.0  0.0  0.0   33\n",
       "dor        0.0   36  0.0  0.0  0.0  0.0  0.0  0.0  0.0   36\n",
       "hes        0.0   34  0.0  0.0  0.0  0.0  0.0  0.0  0.0   34\n",
       "iso        0.0   34  0.0  0.0  0.0  0.0  0.0  0.0  0.0   34\n",
       "mos        0.0    9  0.0  0.0  0.0  0.0  0.0  0.0  0.0    9\n",
       "pte        0.0   18  0.0  0.0  0.0  0.0  0.0  0.0  0.0   18\n",
       "swe        0.0   30  0.0  0.0  0.0  0.0  0.0  0.0  0.0   30\n",
       "yor        0.0   34  0.0  0.0  0.0  0.0  0.0  0.0  0.0   34\n",
       "zap        0.0   45  0.0  0.0  0.0  0.0  0.0  0.0  0.0   45\n",
       "All        0.0  273  0.0  0.0  0.0  0.0  0.0  0.0  0.0  273"
      ]
     },
     "execution_count": 24,
     "metadata": {},
     "output_type": "execute_result"
    }
   ],
   "source": [
    "# validation set\n",
    "confMtx_resnet50V2_val = printConfMtx(\n",
    "    y_true=y_validation,\n",
    "    y_pred=y_pred_resnet50V2_val\n",
    ");\n",
    "confMtx_resnet50V2_val"
   ]
  },
  {
   "cell_type": "code",
   "execution_count": 25,
   "metadata": {},
   "outputs": [
    {
     "name": "stdout",
     "output_type": "stream",
     "text": [
      "Decoded Labels in Prediction array: ['dor']\n"
     ]
    },
    {
     "name": "stderr",
     "output_type": "stream",
     "text": [
      "c:\\Users\\kelvi\\anaconda3\\envs\\tf=2.10\\lib\\site-packages\\sklearn\\preprocessing\\_label.py:153: DataConversionWarning: A column-vector y was passed when a 1d array was expected. Please change the shape of y to (n_samples, ), for example using ravel().\n",
      "  y = column_or_1d(y, warn=True)\n"
     ]
    },
    {
     "data": {
      "text/html": [
       "<div>\n",
       "<style scoped>\n",
       "    .dataframe tbody tr th:only-of-type {\n",
       "        vertical-align: middle;\n",
       "    }\n",
       "\n",
       "    .dataframe tbody tr th {\n",
       "        vertical-align: top;\n",
       "    }\n",
       "\n",
       "    .dataframe thead th {\n",
       "        text-align: right;\n",
       "    }\n",
       "</style>\n",
       "<table border=\"1\" class=\"dataframe\">\n",
       "  <thead>\n",
       "    <tr style=\"text-align: right;\">\n",
       "      <th>Predicted</th>\n",
       "      <th>cal</th>\n",
       "      <th>dor</th>\n",
       "      <th>hes</th>\n",
       "      <th>iso</th>\n",
       "      <th>mos</th>\n",
       "      <th>pte</th>\n",
       "      <th>swe</th>\n",
       "      <th>yor</th>\n",
       "      <th>zap</th>\n",
       "      <th>All</th>\n",
       "    </tr>\n",
       "    <tr>\n",
       "      <th>Actual</th>\n",
       "      <th></th>\n",
       "      <th></th>\n",
       "      <th></th>\n",
       "      <th></th>\n",
       "      <th></th>\n",
       "      <th></th>\n",
       "      <th></th>\n",
       "      <th></th>\n",
       "      <th></th>\n",
       "      <th></th>\n",
       "    </tr>\n",
       "  </thead>\n",
       "  <tbody>\n",
       "    <tr>\n",
       "      <th>cal</th>\n",
       "      <td>0.0</td>\n",
       "      <td>171</td>\n",
       "      <td>0.0</td>\n",
       "      <td>0.0</td>\n",
       "      <td>0.0</td>\n",
       "      <td>0.0</td>\n",
       "      <td>0.0</td>\n",
       "      <td>0.0</td>\n",
       "      <td>0.0</td>\n",
       "      <td>171</td>\n",
       "    </tr>\n",
       "    <tr>\n",
       "      <th>dor</th>\n",
       "      <td>0.0</td>\n",
       "      <td>194</td>\n",
       "      <td>0.0</td>\n",
       "      <td>0.0</td>\n",
       "      <td>0.0</td>\n",
       "      <td>0.0</td>\n",
       "      <td>0.0</td>\n",
       "      <td>0.0</td>\n",
       "      <td>0.0</td>\n",
       "      <td>194</td>\n",
       "    </tr>\n",
       "    <tr>\n",
       "      <th>hes</th>\n",
       "      <td>0.0</td>\n",
       "      <td>200</td>\n",
       "      <td>0.0</td>\n",
       "      <td>0.0</td>\n",
       "      <td>0.0</td>\n",
       "      <td>0.0</td>\n",
       "      <td>0.0</td>\n",
       "      <td>0.0</td>\n",
       "      <td>0.0</td>\n",
       "      <td>200</td>\n",
       "    </tr>\n",
       "    <tr>\n",
       "      <th>iso</th>\n",
       "      <td>0.0</td>\n",
       "      <td>200</td>\n",
       "      <td>0.0</td>\n",
       "      <td>0.0</td>\n",
       "      <td>0.0</td>\n",
       "      <td>0.0</td>\n",
       "      <td>0.0</td>\n",
       "      <td>0.0</td>\n",
       "      <td>0.0</td>\n",
       "      <td>200</td>\n",
       "    </tr>\n",
       "    <tr>\n",
       "      <th>mos</th>\n",
       "      <td>0.0</td>\n",
       "      <td>35</td>\n",
       "      <td>0.0</td>\n",
       "      <td>0.0</td>\n",
       "      <td>0.0</td>\n",
       "      <td>0.0</td>\n",
       "      <td>0.0</td>\n",
       "      <td>0.0</td>\n",
       "      <td>0.0</td>\n",
       "      <td>35</td>\n",
       "    </tr>\n",
       "    <tr>\n",
       "      <th>pte</th>\n",
       "      <td>0.0</td>\n",
       "      <td>55</td>\n",
       "      <td>0.0</td>\n",
       "      <td>0.0</td>\n",
       "      <td>0.0</td>\n",
       "      <td>0.0</td>\n",
       "      <td>0.0</td>\n",
       "      <td>0.0</td>\n",
       "      <td>0.0</td>\n",
       "      <td>55</td>\n",
       "    </tr>\n",
       "    <tr>\n",
       "      <th>swe</th>\n",
       "      <td>0.0</td>\n",
       "      <td>185</td>\n",
       "      <td>0.0</td>\n",
       "      <td>0.0</td>\n",
       "      <td>0.0</td>\n",
       "      <td>0.0</td>\n",
       "      <td>0.0</td>\n",
       "      <td>0.0</td>\n",
       "      <td>0.0</td>\n",
       "      <td>185</td>\n",
       "    </tr>\n",
       "    <tr>\n",
       "      <th>yor</th>\n",
       "      <td>0.0</td>\n",
       "      <td>290</td>\n",
       "      <td>0.0</td>\n",
       "      <td>0.0</td>\n",
       "      <td>0.0</td>\n",
       "      <td>0.0</td>\n",
       "      <td>0.0</td>\n",
       "      <td>0.0</td>\n",
       "      <td>0.0</td>\n",
       "      <td>290</td>\n",
       "    </tr>\n",
       "    <tr>\n",
       "      <th>zap</th>\n",
       "      <td>0.0</td>\n",
       "      <td>150</td>\n",
       "      <td>0.0</td>\n",
       "      <td>0.0</td>\n",
       "      <td>0.0</td>\n",
       "      <td>0.0</td>\n",
       "      <td>0.0</td>\n",
       "      <td>0.0</td>\n",
       "      <td>0.0</td>\n",
       "      <td>150</td>\n",
       "    </tr>\n",
       "    <tr>\n",
       "      <th>All</th>\n",
       "      <td>0.0</td>\n",
       "      <td>1480</td>\n",
       "      <td>0.0</td>\n",
       "      <td>0.0</td>\n",
       "      <td>0.0</td>\n",
       "      <td>0.0</td>\n",
       "      <td>0.0</td>\n",
       "      <td>0.0</td>\n",
       "      <td>0.0</td>\n",
       "      <td>1480</td>\n",
       "    </tr>\n",
       "  </tbody>\n",
       "</table>\n",
       "</div>"
      ],
      "text/plain": [
       "Predicted  cal   dor  hes  iso  mos  pte  swe  yor  zap   All\n",
       "Actual                                                       \n",
       "cal        0.0   171  0.0  0.0  0.0  0.0  0.0  0.0  0.0   171\n",
       "dor        0.0   194  0.0  0.0  0.0  0.0  0.0  0.0  0.0   194\n",
       "hes        0.0   200  0.0  0.0  0.0  0.0  0.0  0.0  0.0   200\n",
       "iso        0.0   200  0.0  0.0  0.0  0.0  0.0  0.0  0.0   200\n",
       "mos        0.0    35  0.0  0.0  0.0  0.0  0.0  0.0  0.0    35\n",
       "pte        0.0    55  0.0  0.0  0.0  0.0  0.0  0.0  0.0    55\n",
       "swe        0.0   185  0.0  0.0  0.0  0.0  0.0  0.0  0.0   185\n",
       "yor        0.0   290  0.0  0.0  0.0  0.0  0.0  0.0  0.0   290\n",
       "zap        0.0   150  0.0  0.0  0.0  0.0  0.0  0.0  0.0   150\n",
       "All        0.0  1480  0.0  0.0  0.0  0.0  0.0  0.0  0.0  1480"
      ]
     },
     "execution_count": 25,
     "metadata": {},
     "output_type": "execute_result"
    }
   ],
   "source": [
    "# test set\n",
    "confMtx_resnet50V2_test = printConfMtx(\n",
    "    y_true=y_test,\n",
    "    y_pred=y_pred_resnet50V2_test\n",
    ");\n",
    "confMtx_resnet50V2_test"
   ]
  },
  {
   "cell_type": "markdown",
   "metadata": {},
   "source": [
    "## Discussion"
   ]
  },
  {
   "cell_type": "markdown",
   "metadata": {},
   "source": [
    "From the learning curves, we can see that:\n",
    "\n",
    "**ResNet50**\n",
    "- ResNet50 classifier was trained with a completely flat accuracy on both the training and the validation sets.\n",
    "- ResNet50 classifier attained in general a higher accuracy on the validation set than on the training set. \n",
    "- From the result of ResNet50, we can see the issue of underfitting, which means that the training data failed to generalize the model well, in general with a lower accuracy.\n",
    "\n",
    "**ResNet50V2**\n",
    "- ResNet50V2 classifier was trained with an increasing accuracy (on the training set) and a completely flat accuracy (on the validation set), respectively, when the number of epochs were enlarging.\n",
    "- ResNet50V2 classifier in general had an overall lower accuracy on the training set than that on the validation set.\n",
    "- From the ResNet50V2 classifier, the result also tells the issue of underfitting, which means that the training data failed to generalize the model well, in general with a lower accuracy.\n",
    "\n",
    "**In General**\n",
    "- When the accuracy of a model remains flat, this means a model failing to learn meaningful patterns in the data.\n",
    "- Meanwhile, the losses of both models in both the training and the validation set data dropped significantly when the number of epochs were enlarging. This is a good sign however because we are certain that by enlarging the number of epochs used to train a model can reduce the loss of the model, and thus enhance its accuracy. "
   ]
  },
  {
   "cell_type": "markdown",
   "metadata": {},
   "source": [
    "From the confusion matricies, we can see that:\n",
    "- Both classifiers give predictions (based on any set of data) all being from the same label. \n",
    "- Such observation is a sign of class imbalance where there exist biases in the training, validation or even the test data."
   ]
  },
  {
   "cell_type": "markdown",
   "metadata": {},
   "source": [
    "As a result of the models failing to learn patterns from the data when the number of epochs is large enough, it is therefore a sign of underfitting. "
   ]
  },
  {
   "cell_type": "markdown",
   "metadata": {},
   "source": [
    "# Basic Transfer Learning: Regression Network for Bounding Box"
   ]
  },
  {
   "cell_type": "markdown",
   "metadata": {},
   "source": [
    "## Data Preprocessing"
   ]
  },
  {
   "cell_type": "code",
   "execution_count": 3,
   "metadata": {},
   "outputs": [
    {
     "name": "stderr",
     "output_type": "stream",
     "text": [
      "c:\\Users\\kelvi\\anaconda3\\envs\\tf=2.10\\lib\\site-packages\\skimage\\_shared\\utils.py:438: UserWarning: This might be a color image. The histogram will be computed on the flattened image. You can instead apply this function to each color channel, or set channel_axis.\n",
      "  return func(*args, **kwargs)\n"
     ]
    },
    {
     "name": "stdout",
     "output_type": "stream",
     "text": [
      "Total number of samples in the segmented training set: 1084\n",
      "Total number of labels in the segmented training set: 1084\n",
      "Unique labels in the segmented training set: ['cal' 'dor' 'hes' 'iso' 'mos' 'pte' 'swe' 'yor' 'zap']\n",
      "Total number of samples in the segmented validation set: 272\n",
      "Total number of labels in the segmented validation set: 272\n",
      "Unique labels in the segmented validation set: ['cal' 'dor' 'hes' 'iso' 'mos' 'pte' 'swe' 'yor' 'zap']\n"
     ]
    }
   ],
   "source": [
    "images_set0, y_set0 = load_images(constants.SEGMENTATION, constants.set0);\n",
    "X_seg_train, X_seg_validation, y_seg_train, y_seg_validation = dataSplit(images_set0, y_set0);\n",
    "# inspect the data\n",
    "print(f\"Total number of samples in the segmented training set: {len(X_seg_train)}\");\n",
    "print(f\"Total number of labels in the segmented training set: {len(y_seg_train)}\");\n",
    "print(f\"Unique labels in the segmented training set: {np.unique(y_seg_train)}\");\n",
    "print(f\"Total number of samples in the segmented validation set: {len(X_seg_validation)}\");\n",
    "print(f\"Total number of labels in the segmented validation set: {len(y_seg_validation)}\");\n",
    "print(f\"Unique labels in the segmented validation set: {np.unique(y_seg_validation)}\");"
   ]
  },
  {
   "cell_type": "code",
   "execution_count": 4,
   "metadata": {},
   "outputs": [],
   "source": [
    "# save the segmented training set and validation set data for easier debugging\n",
    "cacheData(X_seg_train, \"X_seg_train.npy\");\n",
    "cacheData(X_seg_validation, \"X_seg_validation.npy\");\n",
    "cacheData(y_seg_train, \"y_seg_train.npy\");\n",
    "cacheData(y_seg_validation, \"y_seg_validation.npy\");"
   ]
  },
  {
   "cell_type": "code",
   "execution_count": 5,
   "metadata": {},
   "outputs": [
    {
     "name": "stderr",
     "output_type": "stream",
     "text": [
      "c:\\Users\\kelvi\\anaconda3\\envs\\tf=2.10\\lib\\site-packages\\skimage\\_shared\\utils.py:438: UserWarning: This might be a color image. The histogram will be computed on the flattened image. You can instead apply this function to each color channel, or set channel_axis.\n",
      "  return func(*args, **kwargs)\n"
     ]
    },
    {
     "data": {
      "image/png": "[encoded data removed]",
      "text/plain": [
       "<Figure size 640x480 with 1 Axes>"
      ]
     },
     "metadata": {},
     "output_type": "display_data"
    },
    {
     "data": {
      "image/png": "[encoded data removed]",
      "text/plain": [
       "<Figure size 640x480 with 1 Axes>"
      ]
     },
     "metadata": {},
     "output_type": "display_data"
    },
    {
     "name": "stdout",
     "output_type": "stream",
     "text": [
      "Total number of samples in the segmented test set: 1330\n",
      "Total number of labels in the segmented test set: 1330\n",
      "Unique labels in the segmented test set: ['cal' 'dor' 'hes' 'iso' 'mos' 'pte' 'swe' 'yor' 'zap']\n"
     ]
    }
   ],
   "source": [
    "X_seg_test, y_seg_test = load_images(dataset=constants.SEGMENTATION, setName=constants.set1);\n",
    "print(f\"Total number of samples in the segmented test set: {len(X_seg_test)}\");\n",
    "print(f\"Total number of labels in the segmented test set: {len(y_seg_test)}\");\n",
    "print(f\"Unique labels in the segmented test set: {np.unique(y_seg_test)}\");"
   ]
  },
  {
   "cell_type": "code",
   "execution_count": 6,
   "metadata": {},
   "outputs": [],
   "source": [
    "# save the segmented test set data for easier debugging\n",
    "cacheData(X_seg_test, \"X_seg_test.npy\");\n",
    "cacheData(y_seg_test, \"y_seg_test.npy\");"
   ]
  },
  {
   "cell_type": "markdown",
   "metadata": {},
   "source": [
    "### Test Segmentation File Paths in an External Textfile"
   ]
  },
  {
   "cell_type": "code",
   "execution_count": 7,
   "metadata": {},
   "outputs": [
    {
     "name": "stdout",
     "output_type": "stream",
     "text": [
      "Expected Number of Image Paths in set 0: 1356\n",
      "Expected Number of Image Paths in set 1: 1330\n",
      "Number of Image Paths being read from set 0: 1356\n",
      "Number of Image Paths being read from set 1: 1330\n"
     ]
    }
   ],
   "source": [
    "file_set0 = open(\"segmentation-set0-image-paths.txt\", \"r\");\n",
    "file_set1 = open(\"segmentation-set1-image-paths.txt\", \"r\");\n",
    "# splitting the contents into file paths\n",
    "pathPattern = \".\\segmentation\";\n",
    "arr_set0_paths = file_set0.read().split(pathPattern);\n",
    "arr_set1_paths = file_set1.read().split(pathPattern);\n",
    "# removing unnecessary items from the list\n",
    "arr_set0_paths.remove(\"\");\n",
    "arr_set1_paths.remove(\"\");\n",
    "# investigate the image paths being read\n",
    "print(f\"Expected Number of Image Paths in set 0: {len(images_set0)}\");\n",
    "print(f\"Expected Number of Image Paths in set 1: {len(X_seg_test)}\");\n",
    "print(f\"Number of Image Paths being read from set 0: {len(arr_set0_paths)}\");\n",
    "print(f\"Number of Image Paths being read from set 1: {len(arr_set1_paths)}\");\n",
    "file_set0.close();\n",
    "file_set1.close();"
   ]
  },
  {
   "cell_type": "markdown",
   "metadata": {},
   "source": [
    "### Check the Resolution of a random Segmented Image"
   ]
  },
  {
   "cell_type": "code",
   "execution_count": 8,
   "metadata": {},
   "outputs": [
    {
     "name": "stdout",
     "output_type": "stream",
     "text": [
      "Resolution of a random Segmented Image in set 0: 96 pixels x 128 pixels.\n",
      "Resolution of a random Segmented Image in set 0: 96 pixels x 128 pixels.\n"
     ]
    }
   ],
   "source": [
    "# set 0\n",
    "randInd: int = random.randint(0, len(images_set0) - 1);\n",
    "randImg = images_set0[randInd];\n",
    "print(f\"Resolution of a random Segmented Image in set 0: {randImg.shape[0]} pixels x {randImg.shape[1]} pixels.\");\n",
    "# set 1\n",
    "randInd: int = random.randint(0, len(X_seg_test) - 1);\n",
    "randImg = X_seg_test[randInd];\n",
    "print(f\"Resolution of a random Segmented Image in set 0: {randImg.shape[0]} pixels x {randImg.shape[1]} pixels.\");"
   ]
  },
  {
   "cell_type": "markdown",
   "metadata": {},
   "source": [
    "### Identify the Bounding Box Coordinates"
   ]
  },
  {
   "cell_type": "markdown",
   "metadata": {},
   "source": [
    "Note: Please manually remove `bbox.txt` file if it exists on your hard drive, as the following process is going to append lines of text into this file. Please allow the program to create a new file. "
   ]
  },
  {
   "cell_type": "markdown",
   "metadata": {},
   "source": [
    "#### Set 0"
   ]
  },
  {
   "cell_type": "code",
   "execution_count": 9,
   "metadata": {},
   "outputs": [
    {
     "name": "stdout",
     "output_type": "stream",
     "text": [
      "-----set0-----\n"
     ]
    },
    {
     "data": {
      "image/png": "[encoded data removed]",
      "text/plain": [
       "<Figure size 640x480 with 1 Axes>"
      ]
     },
     "metadata": {},
     "output_type": "display_data"
    },
    {
     "name": "stdout",
     "output_type": "stream",
     "text": [
      "Shape of an image in this set: (96, 128)\n",
      "Image Name: Swe_35-specimen-i004-s125\n",
      "Number of non-zero row indices in an image in this set: 12288\n",
      "Number of non-zero column indices in an image in this set: 12288\n",
      "Height of an image in set0: 96\n",
      "Width of an image in set0: 128\n",
      "Lower left corner of an image in set0: (0.0, 0.0)\n",
      "Upper right corner of an image in set0: (0.9921875, 0.9895833333333334)\n",
      "Total Number of Bounding Box coordinates recorded: 1356\n"
     ]
    }
   ],
   "source": [
    "file_set0 = open(\"segmentation-set0-image-paths.txt\", \"r\");\n",
    "bbox_set0 = saveBBoxCoordinates(\n",
    "    images_set=images_set0,\n",
    "    y_images_set=y_set0,\n",
    "    img_paths=file_set0.read(),\n",
    "    setName=constants.set0\n",
    ");\n",
    "file_set0.close();\n",
    "print(f\"Total Number of Bounding Box coordinates recorded: {len(bbox_set0)}\");"
   ]
  },
  {
   "cell_type": "markdown",
   "metadata": {},
   "source": [
    "Set 1"
   ]
  },
  {
   "cell_type": "code",
   "execution_count": 10,
   "metadata": {},
   "outputs": [
    {
     "name": "stdout",
     "output_type": "stream",
     "text": [
      "-----set1-----\n"
     ]
    },
    {
     "data": {
      "image/png": "[encoded data removed]",
      "text/plain": [
       "<Figure size 640x480 with 1 Axes>"
      ]
     },
     "metadata": {},
     "output_type": "display_data"
    },
    {
     "name": "stdout",
     "output_type": "stream",
     "text": [
      "Shape of an image in this set: (96, 128)\n",
      "Image Name: Dor_68-specimen-i002-s125\n",
      "Number of non-zero row indices in an image in this set: 12288\n",
      "Number of non-zero column indices in an image in this set: 12288\n",
      "Height of an image in set1: 96\n",
      "Width of an image in set1: 128\n",
      "Lower left corner of an image in set1: (0.0, 0.0)\n",
      "Upper right corner of an image in set1: (0.9921875, 0.9895833333333334)\n",
      "Total Number of Bounding Box coordinates recorded: 1330\n"
     ]
    }
   ],
   "source": [
    "file_set1 = open(\"segmentation-set1-image-paths.txt\", \"r\");\n",
    "bbox_set1 = saveBBoxCoordinates(\n",
    "    images_set=X_seg_test,\n",
    "    y_images_set=y_seg_test,\n",
    "    img_paths=file_set1.read(),\n",
    "    setName=constants.set1\n",
    ");\n",
    "file_set1.close();\n",
    "print(f\"Total Number of Bounding Box coordinates recorded: {len(bbox_set1)}\");"
   ]
  },
  {
   "cell_type": "markdown",
   "metadata": {},
   "source": [
    "### Inspect the generated `bbox.txt` file"
   ]
  },
  {
   "cell_type": "code",
   "execution_count": 11,
   "metadata": {},
   "outputs": [
    {
     "name": "stdout",
     "output_type": "stream",
     "text": [
      "Number of Bounding Box Coordinates printed in the textfile: 2686\n",
      "Number of Bounding Box Coordinates recorded for set 0: 1356\n",
      "Number of Bounding Box Coordinates recorded for set 1: 1330\n"
     ]
    }
   ],
   "source": [
    "file_bbox = open(constants.BBOX_FILENAME, \"r\");\n",
    "print(f\"Number of Bounding Box Coordinates printed in the textfile: {len(file_bbox.readlines())}\");\n",
    "print(f\"Number of Bounding Box Coordinates recorded for set 0: {len(bbox_set0)}\");\n",
    "print(f\"Number of Bounding Box Coordinates recorded for set 1: {len(bbox_set1)}\");\n",
    "file_bbox.close();"
   ]
  },
  {
   "cell_type": "markdown",
   "metadata": {},
   "source": [
    "### Visualizing a Bounding Box"
   ]
  },
  {
   "cell_type": "markdown",
   "metadata": {},
   "source": [
    "Note: Before training, it shouldn't be able to circle correctly an object in an image. "
   ]
  },
  {
   "cell_type": "code",
   "execution_count": 12,
   "metadata": {},
   "outputs": [
    {
     "name": "stdout",
     "output_type": "stream",
     "text": [
      "-----set 0-----\n"
     ]
    },
    {
     "data": {
      "image/png": "[encoded data removed]",
      "text/plain": [
       "<Figure size 640x480 with 1 Axes>"
      ]
     },
     "metadata": {},
     "output_type": "display_data"
    },
    {
     "name": "stdout",
     "output_type": "stream",
     "text": [
      "Bounding Box is successfully drawn.\n"
     ]
    }
   ],
   "source": [
    "# set 0\n",
    "print(\"-----set 0-----\");\n",
    "res = drawBoundingBox(\n",
    "    bboxFilepath=constants.BBOX_FILENAME,\n",
    "    X_imageSet=images_set0\n",
    ");\n",
    "print(\"Bounding Box is successfully drawn.\" if res == True else \"Failed to draw a bounding box in an image.\");"
   ]
  },
  {
   "cell_type": "code",
   "execution_count": 13,
   "metadata": {},
   "outputs": [
    {
     "name": "stdout",
     "output_type": "stream",
     "text": [
      "-----set 1-----\n"
     ]
    },
    {
     "data": {
      "image/png": "[encoded data removed]",
      "text/plain": [
       "<Figure size 640x480 with 1 Axes>"
      ]
     },
     "metadata": {},
     "output_type": "display_data"
    },
    {
     "name": "stdout",
     "output_type": "stream",
     "text": [
      "Bounding Box is successfully drawn.\n"
     ]
    }
   ],
   "source": [
    "# set 1\n",
    "print(\"-----set 1-----\");\n",
    "res = drawBoundingBox(\n",
    "    bboxFilepath=constants.BBOX_FILENAME,\n",
    "    X_imageSet=X_seg_test\n",
    ");\n",
    "print(\"Bounding Box is successfully drawn.\" if res == True else \"Failed to draw a bounding box in an image.\");"
   ]
  },
  {
   "cell_type": "markdown",
   "metadata": {},
   "source": [
    "## Network based on ResNet-50"
   ]
  },
  {
   "cell_type": "markdown",
   "metadata": {},
   "source": [
    "Goal: Transfer our model's learning from a classification problem to a regression problem."
   ]
  },
  {
   "cell_type": "code",
   "execution_count": 14,
   "metadata": {},
   "outputs": [],
   "source": [
    "# Load the classifiers from .npy files\n",
    "resnet50 = load_model(\"resnet50-posttrained.h5\");\n",
    "resnet50V2 = load_model(\"resnet50V2-posttrained.h5\");\n",
    "# Construct the Model again\n",
    "model = Model(\n",
    "    resnet50=resnet50,\n",
    "    resnet50V2=resnet50V2\n",
    ");"
   ]
  },
  {
   "cell_type": "code",
   "execution_count": 15,
   "metadata": {},
   "outputs": [
    {
     "name": "stdout",
     "output_type": "stream",
     "text": [
      "-----Verifying ResNet50 classifier-----\n",
      "Model: \"model\"\n",
      "_________________________________________________________________\n",
      " Layer (type)                Output Shape              Param #   \n",
      "=================================================================\n",
      " input_3 (InputLayer)        [(None, 96, 128, 3)]      0         \n",
      "                                                                 \n",
      " resnet50 (Functional)       (None, 3, 4, 2048)        23587712  \n",
      "                                                                 \n",
      " global_average_pooling2d (G  (None, 2048)             0         \n",
      " lobalAveragePooling2D)                                          \n",
      "                                                                 \n",
      " dense (Dense)               (None, 1024)              2098176   \n",
      "                                                                 \n",
      " dense_1 (Dense)             (None, 1)                 1025      \n",
      "                                                                 \n",
      "=================================================================\n",
      "Total params: 25,686,913\n",
      "Trainable params: 0\n",
      "Non-trainable params: 25,686,913\n",
      "_________________________________________________________________\n"
     ]
    }
   ],
   "source": [
    "print(\"-----Verifying ResNet50 classifier-----\");\n",
    "model.resnet50.summary();"
   ]
  },
  {
   "cell_type": "code",
   "execution_count": 16,
   "metadata": {},
   "outputs": [
    {
     "name": "stdout",
     "output_type": "stream",
     "text": [
      "-----Verifying ResNet50V2 classifier-----\n",
      "Model: \"model_1\"\n",
      "_________________________________________________________________\n",
      " Layer (type)                Output Shape              Param #   \n",
      "=================================================================\n",
      " input_3 (InputLayer)        [(None, 96, 128, 3)]      0         \n",
      "                                                                 \n",
      " resnet50v2 (Functional)     (None, 3, 4, 2048)        23564800  \n",
      "                                                                 \n",
      " global_average_pooling2d_1   (None, 2048)             0         \n",
      " (GlobalAveragePooling2D)                                        \n",
      "                                                                 \n",
      " dense_2 (Dense)             (None, 1024)              2098176   \n",
      "                                                                 \n",
      " dense_3 (Dense)             (None, 1)                 1025      \n",
      "                                                                 \n",
      "=================================================================\n",
      "Total params: 25,664,001\n",
      "Trainable params: 0\n",
      "Non-trainable params: 25,664,001\n",
      "_________________________________________________________________\n"
     ]
    }
   ],
   "source": [
    "print(\"-----Verifying ResNet50V2 classifier-----\");\n",
    "model.resnet50V2.summary();"
   ]
  },
  {
   "cell_type": "markdown",
   "metadata": {},
   "source": [
    "In our case, we consider only the ResNet50V2 model."
   ]
  },
  {
   "cell_type": "markdown",
   "metadata": {},
   "source": [
    "Theoretically speaking, since our base models have been set `trainable = False` before compilation, we need to duplicate a base model (without the last classification layer ), and then add a regression layer at the last layer of our duplicate."
   ]
  },
  {
   "cell_type": "code",
   "execution_count": 17,
   "metadata": {},
   "outputs": [
    {
     "data": {
      "text/plain": [
       "<keras.engine.sequential.Sequential at 0x1fa8ac177f0>"
      ]
     },
     "execution_count": 17,
     "metadata": {},
     "output_type": "execute_result"
    }
   ],
   "source": [
    "regressor = model.transferLearning(\n",
    "    baseModel=resnet50V2\n",
    ");\n",
    "regressor"
   ]
  },
  {
   "cell_type": "code",
   "execution_count": 18,
   "metadata": {},
   "outputs": [
    {
     "name": "stdout",
     "output_type": "stream",
     "text": [
      "Model: \"sequential\"\n",
      "_________________________________________________________________\n",
      " Layer (type)                Output Shape              Param #   \n",
      "=================================================================\n",
      " model_1 (Functional)        (None, 1)                 25664001  \n",
      "                                                                 \n",
      " dense (Dense)               (None, 1024)              2048      \n",
      "                                                                 \n",
      " dense_1 (Dense)             (None, 4)                 4100      \n",
      "                                                                 \n",
      "=================================================================\n",
      "Total params: 25,670,149\n",
      "Trainable params: 6,148\n",
      "Non-trainable params: 25,664,001\n",
      "_________________________________________________________________\n"
     ]
    }
   ],
   "source": [
    "regressor.summary();"
   ]
  },
  {
   "cell_type": "markdown",
   "metadata": {},
   "source": [
    "### Train the new Regressor Model"
   ]
  },
  {
   "cell_type": "markdown",
   "metadata": {},
   "source": [
    "We need to train the regressor model with the bounding box coordinates instead of the original images."
   ]
  },
  {
   "cell_type": "code",
   "execution_count": 19,
   "metadata": {},
   "outputs": [
    {
     "name": "stdout",
     "output_type": "stream",
     "text": [
      "Total Number of Binary Images as the Samples of this regressor: 1356\n",
      "Shape of an Image: (96, 128)\n"
     ]
    }
   ],
   "source": [
    "# Construct samples array\n",
    "regressor_samples = [bbox_info[\"binary_image\"] for bbox_info in bbox_set0];\n",
    "regressor_samples = np.array(regressor_samples);\n",
    "print(f\"Total Number of Binary Images as the Samples of this regressor: {len(regressor_samples)}\");\n",
    "print(f\"Shape of an Image: {regressor_samples[random.randint(0, len(regressor_samples)-1)].shape}\");"
   ]
  },
  {
   "cell_type": "code",
   "execution_count": 20,
   "metadata": {},
   "outputs": [
    {
     "name": "stdout",
     "output_type": "stream",
     "text": [
      "Number of Labels constructed: 1356\n",
      "An Image's Label looks like: [0.         0.         0.9921875  0.98958333]\n",
      "Number of Unique Labels: 3\n"
     ]
    }
   ],
   "source": [
    "# Construct labels array\n",
    "regressor_labels = [[bbox_info[\"lower_left_x\"], bbox_info[\"lower_left_y\"], bbox_info[\"upper_right_x\"], bbox_info[\"upper_right_y\"]] for bbox_info in bbox_set0];\n",
    "regressor_labels = np.array(regressor_labels);\n",
    "print(f\"Number of Labels constructed: {len(regressor_labels)}\");\n",
    "print(f\"An Image's Label looks like: {regressor_labels[random.randint(0, len(regressor_labels)-1)]}\");\n",
    "print(f\"Number of Unique Labels: {len(np.unique(regressor_labels))}\")"
   ]
  },
  {
   "cell_type": "code",
   "execution_count": 21,
   "metadata": {},
   "outputs": [
    {
     "name": "stdout",
     "output_type": "stream",
     "text": [
      "Total number of samples in the training set: 1084\n",
      "Total number of labels in the training set: 1084\n",
      "Number of Unique labels in the training set: 3\n",
      "Total number of samples in the validation set: 272\n",
      "Total number of labels in the validation set: 272\n",
      "Unique labels in the validation set: 3\n"
     ]
    }
   ],
   "source": [
    "# Perform Data Split\n",
    "regressor_X_train, regressor_X_validation, regressor_y_train, regressor_y_validation = dataSplit(\n",
    "    X=regressor_samples,\n",
    "    y=regressor_labels\n",
    ");\n",
    "# inspect the data\n",
    "print(f\"Total number of samples in the training set: {len(regressor_X_train)}\");\n",
    "print(f\"Total number of labels in the training set: {len(regressor_y_train)}\");\n",
    "print(f\"Number of Unique labels in the training set: {len(np.unique(regressor_y_train))}\");\n",
    "print(f\"Total number of samples in the validation set: {len(regressor_X_validation)}\");\n",
    "print(f\"Total number of labels in the validation set: {len(regressor_y_validation)}\");\n",
    "print(f\"Unique labels in the validation set: {len(np.unique(regressor_y_validation))}\");"
   ]
  },
  {
   "cell_type": "code",
   "execution_count": 22,
   "metadata": {},
   "outputs": [
    {
     "name": "stdout",
     "output_type": "stream",
     "text": [
      "Shape of a sample image in training set: (96, 128, 3)\n",
      "Shape of a sample image in validation set: (96, 128, 3)\n"
     ]
    }
   ],
   "source": [
    "# Transform the Grayscale images so that they are compatible with the model\n",
    "regressor_X_train = np.stack((regressor_X_train,)*3, axis=-1);\n",
    "regressor_X_validation = np.stack((regressor_X_validation,)*3, axis=-1);\n",
    "print(f\"Shape of a sample image in training set: {regressor_X_train[random.randint(0, len(regressor_X_train)-1)].shape}\");\n",
    "print(f\"Shape of a sample image in validation set: {regressor_X_validation[random.randint(0, len(regressor_X_validation)-1)].shape}\");"
   ]
  },
  {
   "cell_type": "code",
   "execution_count": 23,
   "metadata": {},
   "outputs": [],
   "source": [
    "# Save the Data\n",
    "cacheData(regressor_X_train, \"regressor_X_train.npy\");\n",
    "cacheData(regressor_X_validation, \"regressor_X_validation.npy\");\n",
    "cacheData(regressor_y_train, \"regression_y_train.npy\");\n",
    "cacheData(regressor_y_validation, \"regressor_y_validation.npy\");"
   ]
  },
  {
   "cell_type": "code",
   "execution_count": 24,
   "metadata": {},
   "outputs": [
    {
     "name": "stdout",
     "output_type": "stream",
     "text": [
      "Epoch 1/10\n",
      "34/34 [==============================] - 11s 149ms/step - loss: 0.1222 - mae: 0.1986 - val_loss: 0.0114 - val_mae: 0.0797\n",
      "Epoch 2/10\n",
      "34/34 [==============================] - 2s 65ms/step - loss: 0.0021 - mae: 0.0271 - val_loss: 4.1113e-05 - val_mae: 0.0040\n",
      "Epoch 3/10\n",
      "34/34 [==============================] - 2s 66ms/step - loss: 3.9856e-05 - mae: 0.0039 - val_loss: 1.0456e-05 - val_mae: 0.0021\n",
      "Epoch 4/10\n",
      "34/34 [==============================] - 2s 69ms/step - loss: 1.6723e-06 - mae: 6.7678e-04 - val_loss: 3.0377e-07 - val_mae: 3.5132e-04\n",
      "Epoch 5/10\n",
      "34/34 [==============================] - 2s 67ms/step - loss: 6.1613e-08 - mae: 1.2686e-04 - val_loss: 8.0533e-09 - val_mae: 5.7961e-05\n",
      "Epoch 6/10\n",
      "34/34 [==============================] - 2s 66ms/step - loss: 1.7911e-09 - mae: 2.3523e-05 - val_loss: 2.6565e-10 - val_mae: 1.1917e-05\n",
      "Epoch 7/10\n",
      "34/34 [==============================] - 2s 66ms/step - loss: 5.0014e-11 - mae: 4.1646e-06 - val_loss: 7.3379e-12 - val_mae: 1.9750e-06\n",
      "Epoch 8/10\n",
      "34/34 [==============================] - 2s 66ms/step - loss: 1.1499e-12 - mae: 6.6084e-07 - val_loss: 4.6072e-14 - val_mae: 1.2743e-07\n",
      "Epoch 9/10\n",
      "34/34 [==============================] - 2s 66ms/step - loss: 2.3732e-14 - mae: 9.3266e-08 - val_loss: 4.4762e-15 - val_mae: 4.8624e-08\n",
      "Epoch 10/10\n",
      "34/34 [==============================] - 2s 66ms/step - loss: 1.7642e-15 - mae: 2.5170e-08 - val_loss: 1.0708e-15 - val_mae: 1.8493e-08\n"
     ]
    },
    {
     "data": {
      "image/png": "[encoded data removed]",
      "text/plain": [
       "<Figure size 640x480 with 1 Axes>"
      ]
     },
     "metadata": {},
     "output_type": "display_data"
    },
    {
     "data": {
      "image/png": "[encoded data removed]",
      "text/plain": [
       "<Figure size 640x480 with 1 Axes>"
      ]
     },
     "metadata": {},
     "output_type": "display_data"
    },
    {
     "data": {
      "text/plain": [
       "<keras.callbacks.History at 0x1fa6df59180>"
      ]
     },
     "execution_count": 24,
     "metadata": {},
     "output_type": "execute_result"
    }
   ],
   "source": [
    "# resnet50V2 - Regression\n",
    "history_resnet50V2_regressor = model.train(\n",
    "    model=regressor,\n",
    "    X_train=regressor_X_train,\n",
    "    y_train=regressor_y_train,\n",
    "    X_val=regressor_X_validation,\n",
    "    y_val=regressor_y_validation,\n",
    "    modelName=constants.RESNET50V2,\n",
    "    isRegression=True\n",
    ");\n",
    "history_resnet50V2_regressor"
   ]
  },
  {
   "cell_type": "code",
   "execution_count": 25,
   "metadata": {},
   "outputs": [
    {
     "name": "stderr",
     "output_type": "stream",
     "text": [
      "c:\\Users\\kelvi\\anaconda3\\envs\\tf=2.10\\lib\\site-packages\\sklearn\\preprocessing\\_label.py:114: DataConversionWarning: A column-vector y was passed when a 1d array was expected. Please change the shape of y to (n_samples, ), for example using ravel().\n",
      "  y = column_or_1d(y, warn=True)\n",
      "c:\\Users\\kelvi\\anaconda3\\envs\\tf=2.10\\lib\\site-packages\\sklearn\\preprocessing\\_label.py:114: DataConversionWarning: A column-vector y was passed when a 1d array was expected. Please change the shape of y to (n_samples, ), for example using ravel().\n",
      "  y = column_or_1d(y, warn=True)\n",
      "c:\\Users\\kelvi\\anaconda3\\envs\\tf=2.10\\lib\\site-packages\\sklearn\\preprocessing\\_label.py:114: DataConversionWarning: A column-vector y was passed when a 1d array was expected. Please change the shape of y to (n_samples, ), for example using ravel().\n",
      "  y = column_or_1d(y, warn=True)\n"
     ]
    },
    {
     "name": "stdout",
     "output_type": "stream",
     "text": [
      "Training Binary Cross-Entropy error: 20.944873809814453\n",
      "Validation Binary Cross-Entropy error: 20.91759490966797\n",
      "Testing Binary Cross-Entropy error: 17.930686950683594\n"
     ]
    },
    {
     "data": {
      "text/plain": [
       "([20.944873809814453, 3.682405710220337],\n",
       " [20.91759490966797, 3.679922103881836],\n",
       " [17.930686950683594, 3.334212064743042])"
      ]
     },
     "execution_count": 25,
     "metadata": {},
     "output_type": "execute_result"
    }
   ],
   "source": [
    "'''\n",
    "Output Structure: tuple\n",
    "first array: [training loss, training MAE],\n",
    "second array: [validation loss, validation MAE],\n",
    "third array: [test loss, test MAE]\n",
    "'''\n",
    "model.evaluate(\n",
    "    model=regressor,\n",
    "    X_train=X_seg_train,\n",
    "    y_train=encodeLabel(y_seg_train),\n",
    "    X_val=X_seg_validation,\n",
    "    y_val=encodeLabel(y_seg_validation),\n",
    "    X_test=X_seg_test,\n",
    "    y_test=encodeLabel(y_seg_test)\n",
    ")"
   ]
  },
  {
   "cell_type": "markdown",
   "metadata": {},
   "source": [
    "### Make Predictions on the new Regressor Model"
   ]
  },
  {
   "cell_type": "markdown",
   "metadata": {},
   "source": [
    "We need to construct a test set for prediction, which refers to the set 1 in our segmented data."
   ]
  },
  {
   "cell_type": "code",
   "execution_count": 26,
   "metadata": {},
   "outputs": [
    {
     "name": "stdout",
     "output_type": "stream",
     "text": [
      "Total Number of Binary Images as the Samples of this regressor in the Test Set: 1330\n",
      "Shape of an Image in the Test Set: (96, 128)\n"
     ]
    }
   ],
   "source": [
    "# Construct samples array\n",
    "regressor_test_samples = [bbox_info[\"binary_image\"] for bbox_info in bbox_set1];\n",
    "regressor_test_samples = np.array(regressor_test_samples);\n",
    "print(f\"Total Number of Binary Images as the Samples of this regressor in the Test Set: {len(regressor_test_samples)}\");\n",
    "print(f\"Shape of an Image in the Test Set: {regressor_test_samples[random.randint(0, len(regressor_test_samples)-1)].shape}\");"
   ]
  },
  {
   "cell_type": "code",
   "execution_count": 27,
   "metadata": {},
   "outputs": [
    {
     "name": "stdout",
     "output_type": "stream",
     "text": [
      "Number of Labels constructed: 1330\n",
      "An Image's Label looks like: [0.         0.         0.9921875  0.98958333]\n",
      "Number of Unique Labels: 3\n"
     ]
    }
   ],
   "source": [
    "# Construct labels array\n",
    "regressor_y_test = [[bbox_info[\"lower_left_x\"], bbox_info[\"lower_left_y\"], bbox_info[\"upper_right_x\"], bbox_info[\"upper_right_y\"]] for bbox_info in bbox_set1];\n",
    "regressor_y_test = np.array(regressor_y_test);\n",
    "print(f\"Number of Labels constructed: {len(regressor_y_test)}\");\n",
    "print(f\"An Image's Label looks like: {regressor_y_test[random.randint(0, len(regressor_y_test)-1)]}\");\n",
    "print(f\"Number of Unique Labels: {len(np.unique(regressor_y_test))}\")"
   ]
  },
  {
   "cell_type": "code",
   "execution_count": 28,
   "metadata": {},
   "outputs": [
    {
     "name": "stdout",
     "output_type": "stream",
     "text": [
      "Shape of a sample image in test set: (96, 128, 3)\n"
     ]
    }
   ],
   "source": [
    "# Transform the Grayscale images so that they are compatible with the model\n",
    "regressor_X_test = tf.image.grayscale_to_rgb(tf.expand_dims(regressor_test_samples, axis=-1));\n",
    "print(f\"Shape of a sample image in test set: {regressor_X_test[random.randint(0, len(regressor_X_test)-1)].shape}\");"
   ]
  },
  {
   "cell_type": "markdown",
   "metadata": {},
   "source": [
    "Make Predictions"
   ]
  },
  {
   "cell_type": "code",
   "execution_count": 29,
   "metadata": {},
   "outputs": [
    {
     "name": "stdout",
     "output_type": "stream",
     "text": [
      "42/42 [==============================] - 3s 50ms/step\n",
      "Number of Predictions made: 1330\n",
      "Number of Unique Labels in Prediction: 4\n",
      "A Prediction looks like: [-1.0011718e-08 -4.6566129e-10  9.9218756e-01  9.8958331e-01]\n"
     ]
    }
   ],
   "source": [
    "regressor_y_pred = model.predict(\n",
    "    model=regressor,\n",
    "    X_test=regressor_X_test,\n",
    "    isRegression=True\n",
    ");\n",
    "print(f\"A Prediction looks like: {regressor_y_pred[random.randint(0, len(regressor_y_pred)-1)]}\");"
   ]
  },
  {
   "cell_type": "markdown",
   "metadata": {},
   "source": [
    "### Visualizing a Prediction"
   ]
  },
  {
   "cell_type": "code",
   "execution_count": 30,
   "metadata": {},
   "outputs": [
    {
     "data": {
      "image/png": "[encoded data removed]",
      "text/plain": [
       "<Figure size 640x480 with 1 Axes>"
      ]
     },
     "metadata": {},
     "output_type": "display_data"
    }
   ],
   "source": [
    "drawBoundingBox(\n",
    "    bboxFilepath=constants.BBOX_FILENAME,\n",
    "    X_imageSet=regressor_X_test,\n",
    "    y_imageSet=regressor_y_pred,\n",
    "    isPred=True\n",
    ");"
   ]
  }
 ],
 "metadata": {
  "kernelspec": {
   "display_name": "Python 3",
   "language": "python",
   "name": "python3"
  },
  "language_info": {
   "codemirror_mode": {
    "name": "ipython",
    "version": 3
   },
   "file_extension": ".py",
   "mimetype": "text/x-python",
   "name": "python",
   "nbconvert_exporter": "python",
   "pygments_lexer": "ipython3",
   "version": "3.10.15"
  }
 },
 "nbformat": 4,
 "nbformat_minor": 2
}
